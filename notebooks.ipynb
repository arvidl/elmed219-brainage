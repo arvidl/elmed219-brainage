{
 "cells": [
  {
   "cell_type": "markdown",
   "metadata": {},
   "source": [
    "# Notebooks fra ELMED219, 2020"
   ]
  },
  {
   "cell_type": "markdown",
   "metadata": {},
   "source": [
    "Her er en liste av alle notebooks i kursets GitHub-repositorium. **Listen vil oppdateres i løpet av kurset.**\n",
    "\n",
    "Se [GitHub-repositoriet](https://github.com/MMIV-ML/ELMED219-2020) eller kursets [MittUiB-side](https://mitt.uib.no/courses/21357) for mer informasjon."
   ]
  },
  {
   "cell_type": "markdown",
   "metadata": {},
   "source": [
    "## Lab 0: En hands-on-intro til maskinlæring"
   ]
  },
  {
   "cell_type": "markdown",
   "metadata": {},
   "source": [
    "* [ELMED219-Lab0-Enkle_eksempler](notebooks/ELMED219-Lab0-Enkle_eksempler.ipynb)"
   ]
  },
  {
   "cell_type": "markdown",
   "metadata": {},
   "source": [
    "## Lab 1: Journaler og maskinlæring"
   ]
  },
  {
   "cell_type": "markdown",
   "metadata": {},
   "source": [
    "* [ELMED219-Lab1-Liggetid](notebooks/ELMED219-Lab1-Liggetid.ipynb)"
   ]
  },
  {
   "cell_type": "markdown",
   "metadata": {},
   "source": [
    "## Lab 2: Sensorer: fra smarttelefon til MRI"
   ]
  },
  {
   "cell_type": "markdown",
   "metadata": {},
   "source": [
    "* [ELMED219-Lab2-Del1-Sensorer](notebooks/ELMED219-Lab2-Del1-Sensorer.ipynb)\n",
    "* *mer kommer*"
   ]
  },
  {
   "cell_type": "markdown",
   "metadata": {},
   "source": [
    "***MER TBA***"
   ]
  }
 ],
 "metadata": {
  "kernelspec": {
   "display_name": "ELMED219",
   "language": "python",
   "name": "elmed219"
  },
  "language_info": {
   "codemirror_mode": {
    "name": "ipython",
    "version": 3
   },
   "file_extension": ".py",
   "mimetype": "text/x-python",
   "name": "python",
   "nbconvert_exporter": "python",
   "pygments_lexer": "ipython3",
   "version": "3.7.6"
  },
  "toc": {
   "base_numbering": 1,
   "nav_menu": {},
   "number_sections": true,
   "sideBar": true,
   "skip_h1_title": false,
   "title_cell": "Table of Contents",
   "title_sidebar": "Contents",
   "toc_cell": true,
   "toc_position": {},
   "toc_section_display": true,
   "toc_window_display": false
  }
 },
 "nbformat": 4,
 "nbformat_minor": 4
}
