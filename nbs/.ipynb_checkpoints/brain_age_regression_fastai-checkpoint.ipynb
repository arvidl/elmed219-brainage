{
 "cells": [
  {
   "cell_type": "markdown",
   "metadata": {},
   "source": [
    "# Brain age regression with fastai\n",
    "\n",
    "Join here: http://tiny.cc/k8sihz\n",
    "\n",
    "( Model adapted from https://analyticsindiamag.com/a-hands-on-guide-to-regression-with-fast-ai )"
   ]
  },
  {
   "cell_type": "code",
   "execution_count": 352,
   "metadata": {},
   "outputs": [],
   "source": [
    "# Import all libraries needed for the exploration\n",
    "\n",
    "import matplotlib.pyplot as plt\n",
    "import seaborn as sns\n",
    "import pandas as pd # this is how we usually import pandas\n",
    "import numpy as np # this is how we usually import numpy\n",
    "import sys # only needed to determine Python version number\n",
    "import matplotlib #only needed to determine Matplotlib version number\n",
    "from fastai.tabular import *\n",
    "\n",
    "# Enable inline plotting\n",
    "%matplotlib inline"
   ]
  },
  {
   "cell_type": "code",
   "execution_count": 353,
   "metadata": {},
   "outputs": [],
   "source": [
    "# Supress some warnings:\n",
    "import warnings\n",
    "warnings.filterwarnings('ignore')"
   ]
  },
  {
   "cell_type": "code",
   "execution_count": 354,
   "metadata": {},
   "outputs": [
    {
     "name": "stdout",
     "output_type": "stream",
     "text": [
      "Python version 3.7.4 (default, Aug 13 2019, 20:35:49) \n",
      "[GCC 7.3.0]\n",
      "Pandas version 0.25.3\n",
      "Numpy version 1.17.4\n",
      "Matplotlib version 3.1.2\n",
      "Seaborn version 0.9.0\n"
     ]
    }
   ],
   "source": [
    "print('Python version ' + sys.version)\n",
    "print('Pandas version ' + pd.__version__)\n",
    "print('Numpy version ' + np.__version__)\n",
    "print('Matplotlib version ' + matplotlib.__version__)\n",
    "print('Seaborn version ' + sns.__version__)"
   ]
  },
  {
   "cell_type": "markdown",
   "metadata": {},
   "source": [
    "## Code"
   ]
  },
  {
   "cell_type": "code",
   "execution_count": 355,
   "metadata": {},
   "outputs": [
    {
     "name": "stdout",
     "output_type": "stream",
     "text": [
      "brain_age_classification.ipynb\t   Fast_ai_solution.csv\r\n",
      "brain_age_explore_in_r.ipynb\t   kernel_density_estimation.ipynb\r\n",
      "brain_age_explore.ipynb\t\t   models\r\n",
      "brain_age_regression_fastai.ipynb  numpy-basics.ipynb\r\n",
      "brain_age_regression.ipynb\t   pandas-basics.ipynb\r\n",
      "fastai_solution_1.csv\t\t   python-basics.ipynb\r\n",
      "fastai_solution_3.csv\t\t   scikit-learn-basics.ipynb\r\n"
     ]
    }
   ],
   "source": [
    "!ls ."
   ]
  },
  {
   "cell_type": "markdown",
   "metadata": {},
   "source": [
    "## Data"
   ]
  },
  {
   "cell_type": "code",
   "execution_count": 356,
   "metadata": {},
   "outputs": [
    {
     "name": "stdout",
     "output_type": "stream",
     "text": [
      "foo.csv  foo.xlsx   sampleSubmission.csv\ttest.csv\r\n",
      "foo.h5\t iris.data  SLIM_longitudinal_info.csv\ttrain.csv\r\n"
     ]
    }
   ],
   "source": [
    "!ls ../data"
   ]
  },
  {
   "cell_type": "markdown",
   "metadata": {},
   "source": [
    "## Training data"
   ]
  },
  {
   "cell_type": "code",
   "execution_count": 357,
   "metadata": {},
   "outputs": [],
   "source": [
    "train_data = pd.read_csv('../data/train.csv')"
   ]
  },
  {
   "cell_type": "markdown",
   "metadata": {},
   "source": [
    "## Test data"
   ]
  },
  {
   "cell_type": "code",
   "execution_count": 358,
   "metadata": {},
   "outputs": [],
   "source": [
    "test_data = pd.read_csv('../data/test.csv')"
   ]
  },
  {
   "cell_type": "markdown",
   "metadata": {},
   "source": [
    "### Explore the data"
   ]
  },
  {
   "cell_type": "code",
   "execution_count": 359,
   "metadata": {},
   "outputs": [
    {
     "name": "stdout",
     "output_type": "stream",
     "text": [
      "No observations: 1085\n",
      "No variables: 152\n",
      "[dtype('int64') dtype('O') dtype('float64')]\n"
     ]
    }
   ],
   "source": [
    "# Check the number of data points in the data set\n",
    "print('No observations:', len(train_data))\n",
    "# Check the number of features in the data set\n",
    "print('No variables:', len(train_data.columns))\n",
    "# Check the data types\n",
    "print(train_data.dtypes.unique())"
   ]
  },
  {
   "cell_type": "code",
   "execution_count": 360,
   "metadata": {},
   "outputs": [
    {
     "data": {
      "text/plain": [
       "(1085, 152)"
      ]
     },
     "execution_count": 360,
     "metadata": {},
     "output_type": "execute_result"
    }
   ],
   "source": [
    "train_data.shape"
   ]
  },
  {
   "cell_type": "code",
   "execution_count": 361,
   "metadata": {
    "scrolled": true
   },
   "outputs": [
    {
     "data": {
      "text/plain": [
       "Index(['SubjectID', 'Source', 'ID', 'Sex', 'Height', 'Weight', 'FieldStrength',\n",
       "       'Handedness', 'Measure:volume', 'Left-Lateral-Ventricle',\n",
       "       ...\n",
       "       'rh_superiortemporal_thickness', 'rh_supramarginal_thickness',\n",
       "       'rh_frontalpole_thickness', 'rh_temporalpole_thickness',\n",
       "       'rh_transversetemporal_thickness', 'rh_insula_thickness',\n",
       "       'rh_MeanThickness_thickness', 'BrainSegVolNotVent', 'eTIV_y', 'Age'],\n",
       "      dtype='object', length=152)"
      ]
     },
     "execution_count": 361,
     "metadata": {},
     "output_type": "execute_result"
    }
   ],
   "source": [
    "train_data.columns"
   ]
  },
  {
   "cell_type": "code",
   "execution_count": 362,
   "metadata": {},
   "outputs": [
    {
     "name": "stdout",
     "output_type": "stream",
     "text": [
      "0 SubjectID\n",
      "1 Source\n",
      "2 ID\n",
      "3 Sex\n",
      "4 Height\n",
      "5 Weight\n",
      "6 FieldStrength\n",
      "7 Handedness\n",
      "8 Measure:volume\n",
      "9 Left-Lateral-Ventricle\n",
      "10 Left-Inf-Lat-Vent\n",
      "11 Left-Cerebellum-White-Matter\n",
      "12 Left-Cerebellum-Cortex\n",
      "13 Left-Thalamus-Proper\n",
      "14 Left-Caudate\n",
      "15 Left-Putamen\n",
      "16 Left-Pallidum\n",
      "17 3rd-Ventricle\n",
      "18 4th-Ventricle\n",
      "19 Brain-Stem\n",
      "20 Left-Hippocampus\n",
      "21 Left-Amygdala\n",
      "22 CSF\n",
      "23 Left-Accumbens-area\n",
      "24 Left-VentralDC\n",
      "25 Left-vessel\n",
      "26 Left-choroid-plexus\n",
      "27 Right-Lateral-Ventricle\n",
      "28 Right-Inf-Lat-Vent\n",
      "29 Right-Cerebellum-White-Matter\n",
      "30 Right-Cerebellum-Cortex\n",
      "31 Right-Thalamus-Proper\n",
      "32 Right-Caudate\n",
      "33 Right-Putamen\n",
      "34 Right-Pallidum\n",
      "35 Right-Hippocampus\n",
      "36 Right-Amygdala\n",
      "37 Right-Accumbens-area\n",
      "38 Right-VentralDC\n",
      "39 Right-vessel\n",
      "40 Right-choroid-plexus\n",
      "41 5th-Ventricle\n",
      "42 WM-hypointensities\n",
      "43 Left-WM-hypointensities\n",
      "44 Right-WM-hypointensities\n",
      "45 non-WM-hypointensities\n",
      "46 Left-non-WM-hypointensities\n",
      "47 Right-non-WM-hypointensities\n",
      "48 Optic-Chiasm\n",
      "49 CC_Posterior\n",
      "50 CC_Mid_Posterior\n",
      "51 CC_Central\n",
      "52 CC_Mid_Anterior\n",
      "53 CC_Anterior\n",
      "54 BrainSegVol\n",
      "55 BrainSegVolNotVent_x\n",
      "56 BrainSegVolNotVentSurf\n",
      "57 lhCortexVol\n",
      "58 rhCortexVol\n",
      "59 CortexVol\n",
      "60 lhCerebralWhiteMatterVol\n",
      "61 rhCerebralWhiteMatterVol\n",
      "62 CerebralWhiteMatterVol\n",
      "63 SubCortGrayVol\n",
      "64 TotalGrayVol\n",
      "65 SupraTentorialVol\n",
      "66 SupraTentorialVolNotVent\n",
      "67 SupraTentorialVolNotVentVox\n",
      "68 MaskVol\n",
      "69 BrainSegVol-to-eTIV\n",
      "70 MaskVol-to-eTIV\n",
      "71 lhSurfaceHoles\n",
      "72 rhSurfaceHoles\n",
      "73 SurfaceHoles\n",
      "74 EstimatedTotalIntraCranialVol\n",
      "75 lh.aparc.thickness\n",
      "76 lh_bankssts_thickness\n",
      "77 lh_caudalanteriorcingulate_thickness\n",
      "78 lh_caudalmiddlefrontal_thickness\n",
      "79 lh_cuneus_thickness\n",
      "80 lh_entorhinal_thickness\n",
      "81 lh_fusiform_thickness\n",
      "82 lh_inferiorparietal_thickness\n",
      "83 lh_inferiortemporal_thickness\n",
      "84 lh_isthmuscingulate_thickness\n",
      "85 lh_lateraloccipital_thickness\n",
      "86 lh_lateralorbitofrontal_thickness\n",
      "87 lh_lingual_thickness\n",
      "88 lh_medialorbitofrontal_thickness\n",
      "89 lh_middletemporal_thickness\n",
      "90 lh_parahippocampal_thickness\n",
      "91 lh_paracentral_thickness\n",
      "92 lh_parsopercularis_thickness\n",
      "93 lh_parsorbitalis_thickness\n",
      "94 lh_parstriangularis_thickness\n",
      "95 lh_pericalcarine_thickness\n",
      "96 lh_postcentral_thickness\n",
      "97 lh_posteriorcingulate_thickness\n",
      "98 lh_precentral_thickness\n",
      "99 lh_precuneus_thickness\n",
      "100 lh_rostralanteriorcingulate_thickness\n",
      "101 lh_rostralmiddlefrontal_thickness\n",
      "102 lh_superiorfrontal_thickness\n",
      "103 lh_superiorparietal_thickness\n",
      "104 lh_superiortemporal_thickness\n",
      "105 lh_supramarginal_thickness\n",
      "106 lh_frontalpole_thickness\n",
      "107 lh_temporalpole_thickness\n",
      "108 lh_transversetemporal_thickness\n",
      "109 lh_insula_thickness\n",
      "110 lh_MeanThickness_thickness\n",
      "111 BrainSegVolNotVent_y\n",
      "112 eTIV_x\n",
      "113 rh.aparc.thickness\n",
      "114 rh_bankssts_thickness\n",
      "115 rh_caudalanteriorcingulate_thickness\n",
      "116 rh_caudalmiddlefrontal_thickness\n",
      "117 rh_cuneus_thickness\n",
      "118 rh_entorhinal_thickness\n",
      "119 rh_fusiform_thickness\n",
      "120 rh_inferiorparietal_thickness\n",
      "121 rh_inferiortemporal_thickness\n",
      "122 rh_isthmuscingulate_thickness\n",
      "123 rh_lateraloccipital_thickness\n",
      "124 rh_lateralorbitofrontal_thickness\n",
      "125 rh_lingual_thickness\n",
      "126 rh_medialorbitofrontal_thickness\n",
      "127 rh_middletemporal_thickness\n",
      "128 rh_parahippocampal_thickness\n",
      "129 rh_paracentral_thickness\n",
      "130 rh_parsopercularis_thickness\n",
      "131 rh_parsorbitalis_thickness\n",
      "132 rh_parstriangularis_thickness\n",
      "133 rh_pericalcarine_thickness\n",
      "134 rh_postcentral_thickness\n",
      "135 rh_posteriorcingulate_thickness\n",
      "136 rh_precentral_thickness\n",
      "137 rh_precuneus_thickness\n",
      "138 rh_rostralanteriorcingulate_thickness\n",
      "139 rh_rostralmiddlefrontal_thickness\n",
      "140 rh_superiorfrontal_thickness\n",
      "141 rh_superiorparietal_thickness\n",
      "142 rh_superiortemporal_thickness\n",
      "143 rh_supramarginal_thickness\n",
      "144 rh_frontalpole_thickness\n",
      "145 rh_temporalpole_thickness\n",
      "146 rh_transversetemporal_thickness\n",
      "147 rh_insula_thickness\n",
      "148 rh_MeanThickness_thickness\n",
      "149 BrainSegVolNotVent\n",
      "150 eTIV_y\n",
      "151 Age\n"
     ]
    }
   ],
   "source": [
    "for i, col in enumerate(train_data.columns, start=0):\n",
    "    print(i, col)"
   ]
  },
  {
   "cell_type": "code",
   "execution_count": 363,
   "metadata": {},
   "outputs": [
    {
     "data": {
      "text/plain": [
       "['Source',\n",
       " 'ID',\n",
       " 'Sex',\n",
       " 'FieldStrength',\n",
       " 'lh.aparc.thickness',\n",
       " 'rh.aparc.thickness']"
      ]
     },
     "execution_count": 363,
     "metadata": {},
     "output_type": "execute_result"
    }
   ],
   "source": [
    "# We may have some categorical features, let's check them\n",
    "train_data.select_dtypes(include=['O']).columns.tolist()"
   ]
  },
  {
   "cell_type": "code",
   "execution_count": 364,
   "metadata": {},
   "outputs": [
    {
     "name": "stdout",
     "output_type": "stream",
     "text": [
      "4  /  152\n",
      "1085  /  1085\n"
     ]
    }
   ],
   "source": [
    "# Check any number of columns with NaN\n",
    "print(train_data.isnull().any().sum(), ' / ', len(train_data.columns))\n",
    "# Check number of data points with any NaN\n",
    "print(train_data.isnull().any(axis=1).sum(), ' / ', len(train_data))"
   ]
  },
  {
   "cell_type": "markdown",
   "metadata": {},
   "source": [
    "### Select features and targets"
   ]
  },
  {
   "cell_type": "code",
   "execution_count": 365,
   "metadata": {},
   "outputs": [],
   "source": [
    "features = train_data.iloc[:,9:-1].columns.tolist()\n",
    "target = train_data.iloc[:,-1].name"
   ]
  },
  {
   "cell_type": "code",
   "execution_count": 366,
   "metadata": {},
   "outputs": [],
   "source": [
    "all_lh_features = [\n",
    " 'CSF', 'CC_Posterior', 'CC_Mid_Posterior', 'CC_Central', 'CC_Mid_Anterior', 'CC_Anterior', 'EstimatedTotalIntraCranialVol',\n",
    " 'Left-Lateral-Ventricle',\n",
    " 'Left-Inf-Lat-Vent',\n",
    " 'Left-Cerebellum-White-Matter',\n",
    " 'Left-Cerebellum-Cortex',\n",
    " 'Left-Thalamus-Proper',\n",
    " 'Left-Caudate',\n",
    " 'Left-Putamen',\n",
    " 'Left-Pallidum',\n",
    " 'Left-Hippocampus',\n",
    " 'Left-Amygdala',\n",
    " 'Left-Accumbens-area',\n",
    " 'Left-VentralDC',\n",
    " 'Left-vessel',\n",
    " 'Left-choroid-plexus',\n",
    " 'Left-WM-hypointensities',\n",
    " 'Left-non-WM-hypointensities',\n",
    " 'lhCortexVol',\n",
    " 'lhCerebralWhiteMatterVol',            \n",
    " 'lhSurfaceHoles',  \n",
    " 'lh.aparc.thickness',\n",
    " 'lh_bankssts_thickness',\n",
    " 'lh_caudalanteriorcingulate_thickness',\n",
    " 'lh_caudalmiddlefrontal_thickness',\n",
    " 'lh_cuneus_thickness',\n",
    " 'lh_entorhinal_thickness',\n",
    " 'lh_fusiform_thickness',\n",
    " 'lh_inferiorparietal_thickness',\n",
    " 'lh_inferiortemporal_thickness',\n",
    " 'lh_isthmuscingulate_thickness',\n",
    " 'lh_lateraloccipital_thickness',\n",
    " 'lh_lateralorbitofrontal_thickness',\n",
    " 'lh_lingual_thickness',\n",
    " 'lh_medialorbitofrontal_thickness',\n",
    " 'lh_middletemporal_thickness',\n",
    " 'lh_parahippocampal_thickness',\n",
    " 'lh_paracentral_thickness',\n",
    " 'lh_parsopercularis_thickness',\n",
    " 'lh_parsorbitalis_thickness',\n",
    " 'lh_parstriangularis_thickness',\n",
    " 'lh_pericalcarine_thickness',\n",
    " 'lh_postcentral_thickness',\n",
    " 'lh_posteriorcingulate_thickness',\n",
    " 'lh_precentral_thickness',\n",
    " 'lh_precuneus_thickness',\n",
    " 'lh_rostralanteriorcingulate_thickness',\n",
    " 'lh_rostralmiddlefrontal_thickness',\n",
    " 'lh_superiorfrontal_thickness',\n",
    " 'lh_superiorparietal_thickness',\n",
    " 'lh_superiortemporal_thickness',\n",
    " 'lh_supramarginal_thickness',\n",
    " 'lh_frontalpole_thickness',\n",
    " 'lh_temporalpole_thickness',\n",
    " 'lh_transversetemporal_thickness',\n",
    " 'lh_insula_thickness',\n",
    " 'lh_MeanThickness_thickness'\n",
    " ]"
   ]
  },
  {
   "cell_type": "code",
   "execution_count": 367,
   "metadata": {},
   "outputs": [
    {
     "data": {
      "text/plain": [
       "['CSF',\n",
       " 'CC_Posterior',\n",
       " 'CC_Mid_Posterior',\n",
       " 'CC_Central',\n",
       " 'CC_Mid_Anterior',\n",
       " 'CC_Anterior',\n",
       " 'EstimatedTotalIntraCranialVol',\n",
       " 'Right-Lateral-Ventricle',\n",
       " 'Right-Inf-Lat-Vent',\n",
       " 'Right-Cerebellum-White-Matter',\n",
       " 'Right-Cerebellum-Cortex',\n",
       " 'Right-Thalamus-Proper',\n",
       " 'Right-Caudate',\n",
       " 'Right-Putamen',\n",
       " 'Right-Pallidum',\n",
       " 'Right-Hippocampus',\n",
       " 'Right-Amygdala',\n",
       " 'Right-Accumbens-area',\n",
       " 'Right-VentralDC',\n",
       " 'Right-vessel',\n",
       " 'Right-choroid-plexus',\n",
       " 'Right-WM-hypointensities',\n",
       " 'Right-non-WM-hypointensities',\n",
       " 'rhCortexVol',\n",
       " 'rhCerebralWhiteMatterVol',\n",
       " 'rhSurfaceHoles',\n",
       " 'rh.aparc.thickness',\n",
       " 'rh_bankssts_thickness',\n",
       " 'rh_caudalanteriorcingulate_thickness',\n",
       " 'rh_caudalmiddlefrontal_thickness',\n",
       " 'rh_cuneus_thickness',\n",
       " 'rh_entorhinal_thickness',\n",
       " 'rh_fusiform_thickness',\n",
       " 'rh_inferiorparietal_thickness',\n",
       " 'rh_inferiortemporal_thickness',\n",
       " 'rh_isthmuscingulate_thickness',\n",
       " 'rh_lateraloccipital_thickness',\n",
       " 'rh_lateralorbitofrontal_thickness',\n",
       " 'rh_lingual_thickness',\n",
       " 'rh_medialorbitofrontal_thickness',\n",
       " 'rh_middletemporal_thickness',\n",
       " 'rh_parahippocampal_thickness',\n",
       " 'rh_paracentral_thickness',\n",
       " 'rh_parsopercularis_thickness',\n",
       " 'rh_parsorbitalis_thickness',\n",
       " 'rh_parstriangularis_thickness',\n",
       " 'rh_pericalcarine_thickness',\n",
       " 'rh_postcentral_thickness',\n",
       " 'rh_posteriorcingulate_thickness',\n",
       " 'rh_precentral_thickness',\n",
       " 'rh_precuneus_thickness',\n",
       " 'rh_rostralanteriorcingulate_thickness',\n",
       " 'rh_rostralmiddlefrontal_thickness',\n",
       " 'rh_superiorfrontal_thickness',\n",
       " 'rh_superiorparietal_thickness',\n",
       " 'rh_superiortemporal_thickness',\n",
       " 'rh_supramarginal_thickness',\n",
       " 'rh_frontalpole_thickness',\n",
       " 'rh_temporalpole_thickness',\n",
       " 'rh_transversetemporal_thickness',\n",
       " 'rh_insula_thickness',\n",
       " 'rh_MeanThickness_thickness']"
      ]
     },
     "execution_count": 367,
     "metadata": {},
     "output_type": "execute_result"
    }
   ],
   "source": [
    "# Make rh_ and Right- names (base on LHs)\n",
    "\n",
    "# List comprehensions\n",
    "rh_names = [w.replace('lh_', 'rh_') for w in all_lh_features]\n",
    "Right_names = [w.replace('Left-', 'Right-') for w in rh_names]\n",
    "most_rh_names = [w.replace('lhC', 'rhC') for w in Right_names]\n",
    "all_rh_names = [w.replace('lhS', 'rhS') for w in most_rh_names]\n",
    "all_rh_features = [w.replace('lh.', 'rh.') for w in all_rh_names]\n",
    "all_rh_features"
   ]
  },
  {
   "cell_type": "code",
   "execution_count": 368,
   "metadata": {},
   "outputs": [],
   "source": [
    "train_data_lh = train_data[all_lh_features]\n",
    "train_data_rh = train_data[all_rh_features]"
   ]
  },
  {
   "cell_type": "code",
   "execution_count": 369,
   "metadata": {},
   "outputs": [
    {
     "data": {
      "text/html": [
       "<div>\n",
       "<style scoped>\n",
       "    .dataframe tbody tr th:only-of-type {\n",
       "        vertical-align: middle;\n",
       "    }\n",
       "\n",
       "    .dataframe tbody tr th {\n",
       "        vertical-align: top;\n",
       "    }\n",
       "\n",
       "    .dataframe thead th {\n",
       "        text-align: right;\n",
       "    }\n",
       "</style>\n",
       "<table border=\"1\" class=\"dataframe\">\n",
       "  <thead>\n",
       "    <tr style=\"text-align: right;\">\n",
       "      <th></th>\n",
       "      <th>count</th>\n",
       "      <th>mean</th>\n",
       "      <th>std</th>\n",
       "      <th>min</th>\n",
       "      <th>25%</th>\n",
       "      <th>50%</th>\n",
       "      <th>75%</th>\n",
       "      <th>max</th>\n",
       "    </tr>\n",
       "  </thead>\n",
       "  <tbody>\n",
       "    <tr>\n",
       "      <th>CSF</th>\n",
       "      <td>1085.0</td>\n",
       "      <td>1032.72</td>\n",
       "      <td>275.51</td>\n",
       "      <td>550.90</td>\n",
       "      <td>849.50</td>\n",
       "      <td>989.90</td>\n",
       "      <td>1154.00</td>\n",
       "      <td>3135.60</td>\n",
       "    </tr>\n",
       "    <tr>\n",
       "      <th>CC_Posterior</th>\n",
       "      <td>1085.0</td>\n",
       "      <td>998.76</td>\n",
       "      <td>165.01</td>\n",
       "      <td>259.40</td>\n",
       "      <td>890.20</td>\n",
       "      <td>996.00</td>\n",
       "      <td>1085.90</td>\n",
       "      <td>1824.10</td>\n",
       "    </tr>\n",
       "    <tr>\n",
       "      <th>CC_Mid_Posterior</th>\n",
       "      <td>1085.0</td>\n",
       "      <td>564.41</td>\n",
       "      <td>133.13</td>\n",
       "      <td>115.50</td>\n",
       "      <td>479.50</td>\n",
       "      <td>548.60</td>\n",
       "      <td>632.40</td>\n",
       "      <td>1447.20</td>\n",
       "    </tr>\n",
       "    <tr>\n",
       "      <th>CC_Central</th>\n",
       "      <td>1085.0</td>\n",
       "      <td>660.53</td>\n",
       "      <td>182.18</td>\n",
       "      <td>255.70</td>\n",
       "      <td>511.10</td>\n",
       "      <td>656.20</td>\n",
       "      <td>794.80</td>\n",
       "      <td>1289.50</td>\n",
       "    </tr>\n",
       "    <tr>\n",
       "      <th>CC_Mid_Anterior</th>\n",
       "      <td>1085.0</td>\n",
       "      <td>646.39</td>\n",
       "      <td>178.89</td>\n",
       "      <td>247.40</td>\n",
       "      <td>504.60</td>\n",
       "      <td>634.80</td>\n",
       "      <td>769.00</td>\n",
       "      <td>1294.70</td>\n",
       "    </tr>\n",
       "    <tr>\n",
       "      <th>...</th>\n",
       "      <td>...</td>\n",
       "      <td>...</td>\n",
       "      <td>...</td>\n",
       "      <td>...</td>\n",
       "      <td>...</td>\n",
       "      <td>...</td>\n",
       "      <td>...</td>\n",
       "      <td>...</td>\n",
       "    </tr>\n",
       "    <tr>\n",
       "      <th>lh_frontalpole_thickness</th>\n",
       "      <td>1085.0</td>\n",
       "      <td>2.84</td>\n",
       "      <td>0.29</td>\n",
       "      <td>1.58</td>\n",
       "      <td>2.64</td>\n",
       "      <td>2.85</td>\n",
       "      <td>3.02</td>\n",
       "      <td>3.68</td>\n",
       "    </tr>\n",
       "    <tr>\n",
       "      <th>lh_temporalpole_thickness</th>\n",
       "      <td>1085.0</td>\n",
       "      <td>3.68</td>\n",
       "      <td>0.29</td>\n",
       "      <td>2.29</td>\n",
       "      <td>3.51</td>\n",
       "      <td>3.70</td>\n",
       "      <td>3.88</td>\n",
       "      <td>4.46</td>\n",
       "    </tr>\n",
       "    <tr>\n",
       "      <th>lh_transversetemporal_thickness</th>\n",
       "      <td>1085.0</td>\n",
       "      <td>2.30</td>\n",
       "      <td>0.23</td>\n",
       "      <td>1.26</td>\n",
       "      <td>2.16</td>\n",
       "      <td>2.31</td>\n",
       "      <td>2.46</td>\n",
       "      <td>3.04</td>\n",
       "    </tr>\n",
       "    <tr>\n",
       "      <th>lh_insula_thickness</th>\n",
       "      <td>1085.0</td>\n",
       "      <td>2.97</td>\n",
       "      <td>0.19</td>\n",
       "      <td>1.50</td>\n",
       "      <td>2.87</td>\n",
       "      <td>2.98</td>\n",
       "      <td>3.10</td>\n",
       "      <td>3.55</td>\n",
       "    </tr>\n",
       "    <tr>\n",
       "      <th>lh_MeanThickness_thickness</th>\n",
       "      <td>1085.0</td>\n",
       "      <td>2.51</td>\n",
       "      <td>0.13</td>\n",
       "      <td>1.64</td>\n",
       "      <td>2.42</td>\n",
       "      <td>2.51</td>\n",
       "      <td>2.61</td>\n",
       "      <td>2.84</td>\n",
       "    </tr>\n",
       "  </tbody>\n",
       "</table>\n",
       "<p>61 rows × 8 columns</p>\n",
       "</div>"
      ],
      "text/plain": [
       "                                  count     mean     std     min     25%  \\\n",
       "CSF                              1085.0  1032.72  275.51  550.90  849.50   \n",
       "CC_Posterior                     1085.0   998.76  165.01  259.40  890.20   \n",
       "CC_Mid_Posterior                 1085.0   564.41  133.13  115.50  479.50   \n",
       "CC_Central                       1085.0   660.53  182.18  255.70  511.10   \n",
       "CC_Mid_Anterior                  1085.0   646.39  178.89  247.40  504.60   \n",
       "...                                 ...      ...     ...     ...     ...   \n",
       "lh_frontalpole_thickness         1085.0     2.84    0.29    1.58    2.64   \n",
       "lh_temporalpole_thickness        1085.0     3.68    0.29    2.29    3.51   \n",
       "lh_transversetemporal_thickness  1085.0     2.30    0.23    1.26    2.16   \n",
       "lh_insula_thickness              1085.0     2.97    0.19    1.50    2.87   \n",
       "lh_MeanThickness_thickness       1085.0     2.51    0.13    1.64    2.42   \n",
       "\n",
       "                                    50%      75%      max  \n",
       "CSF                              989.90  1154.00  3135.60  \n",
       "CC_Posterior                     996.00  1085.90  1824.10  \n",
       "CC_Mid_Posterior                 548.60   632.40  1447.20  \n",
       "CC_Central                       656.20   794.80  1289.50  \n",
       "CC_Mid_Anterior                  634.80   769.00  1294.70  \n",
       "...                                 ...      ...      ...  \n",
       "lh_frontalpole_thickness           2.85     3.02     3.68  \n",
       "lh_temporalpole_thickness          3.70     3.88     4.46  \n",
       "lh_transversetemporal_thickness    2.31     2.46     3.04  \n",
       "lh_insula_thickness                2.98     3.10     3.55  \n",
       "lh_MeanThickness_thickness         2.51     2.61     2.84  \n",
       "\n",
       "[61 rows x 8 columns]"
      ]
     },
     "execution_count": 369,
     "metadata": {},
     "output_type": "execute_result"
    }
   ],
   "source": [
    "train_data_lh.describe().T.round(2)"
   ]
  },
  {
   "cell_type": "code",
   "execution_count": 370,
   "metadata": {},
   "outputs": [
    {
     "data": {
      "text/html": [
       "<div>\n",
       "<style scoped>\n",
       "    .dataframe tbody tr th:only-of-type {\n",
       "        vertical-align: middle;\n",
       "    }\n",
       "\n",
       "    .dataframe tbody tr th {\n",
       "        vertical-align: top;\n",
       "    }\n",
       "\n",
       "    .dataframe thead th {\n",
       "        text-align: right;\n",
       "    }\n",
       "</style>\n",
       "<table border=\"1\" class=\"dataframe\">\n",
       "  <thead>\n",
       "    <tr style=\"text-align: right;\">\n",
       "      <th></th>\n",
       "      <th>count</th>\n",
       "      <th>mean</th>\n",
       "      <th>std</th>\n",
       "      <th>min</th>\n",
       "      <th>25%</th>\n",
       "      <th>50%</th>\n",
       "      <th>75%</th>\n",
       "      <th>max</th>\n",
       "    </tr>\n",
       "  </thead>\n",
       "  <tbody>\n",
       "    <tr>\n",
       "      <th>CSF</th>\n",
       "      <td>1085.0</td>\n",
       "      <td>1032.72</td>\n",
       "      <td>275.51</td>\n",
       "      <td>550.90</td>\n",
       "      <td>849.50</td>\n",
       "      <td>989.90</td>\n",
       "      <td>1154.00</td>\n",
       "      <td>3135.60</td>\n",
       "    </tr>\n",
       "    <tr>\n",
       "      <th>CC_Posterior</th>\n",
       "      <td>1085.0</td>\n",
       "      <td>998.76</td>\n",
       "      <td>165.01</td>\n",
       "      <td>259.40</td>\n",
       "      <td>890.20</td>\n",
       "      <td>996.00</td>\n",
       "      <td>1085.90</td>\n",
       "      <td>1824.10</td>\n",
       "    </tr>\n",
       "    <tr>\n",
       "      <th>CC_Mid_Posterior</th>\n",
       "      <td>1085.0</td>\n",
       "      <td>564.41</td>\n",
       "      <td>133.13</td>\n",
       "      <td>115.50</td>\n",
       "      <td>479.50</td>\n",
       "      <td>548.60</td>\n",
       "      <td>632.40</td>\n",
       "      <td>1447.20</td>\n",
       "    </tr>\n",
       "    <tr>\n",
       "      <th>CC_Central</th>\n",
       "      <td>1085.0</td>\n",
       "      <td>660.53</td>\n",
       "      <td>182.18</td>\n",
       "      <td>255.70</td>\n",
       "      <td>511.10</td>\n",
       "      <td>656.20</td>\n",
       "      <td>794.80</td>\n",
       "      <td>1289.50</td>\n",
       "    </tr>\n",
       "    <tr>\n",
       "      <th>CC_Mid_Anterior</th>\n",
       "      <td>1085.0</td>\n",
       "      <td>646.39</td>\n",
       "      <td>178.89</td>\n",
       "      <td>247.40</td>\n",
       "      <td>504.60</td>\n",
       "      <td>634.80</td>\n",
       "      <td>769.00</td>\n",
       "      <td>1294.70</td>\n",
       "    </tr>\n",
       "    <tr>\n",
       "      <th>...</th>\n",
       "      <td>...</td>\n",
       "      <td>...</td>\n",
       "      <td>...</td>\n",
       "      <td>...</td>\n",
       "      <td>...</td>\n",
       "      <td>...</td>\n",
       "      <td>...</td>\n",
       "      <td>...</td>\n",
       "    </tr>\n",
       "    <tr>\n",
       "      <th>rh_frontalpole_thickness</th>\n",
       "      <td>1085.0</td>\n",
       "      <td>2.81</td>\n",
       "      <td>0.28</td>\n",
       "      <td>1.98</td>\n",
       "      <td>2.63</td>\n",
       "      <td>2.80</td>\n",
       "      <td>3.01</td>\n",
       "      <td>3.74</td>\n",
       "    </tr>\n",
       "    <tr>\n",
       "      <th>rh_temporalpole_thickness</th>\n",
       "      <td>1085.0</td>\n",
       "      <td>3.76</td>\n",
       "      <td>0.30</td>\n",
       "      <td>2.23</td>\n",
       "      <td>3.57</td>\n",
       "      <td>3.78</td>\n",
       "      <td>3.96</td>\n",
       "      <td>4.57</td>\n",
       "    </tr>\n",
       "    <tr>\n",
       "      <th>rh_transversetemporal_thickness</th>\n",
       "      <td>1085.0</td>\n",
       "      <td>2.35</td>\n",
       "      <td>0.24</td>\n",
       "      <td>1.31</td>\n",
       "      <td>2.22</td>\n",
       "      <td>2.37</td>\n",
       "      <td>2.52</td>\n",
       "      <td>3.05</td>\n",
       "    </tr>\n",
       "    <tr>\n",
       "      <th>rh_insula_thickness</th>\n",
       "      <td>1085.0</td>\n",
       "      <td>2.99</td>\n",
       "      <td>0.20</td>\n",
       "      <td>1.49</td>\n",
       "      <td>2.87</td>\n",
       "      <td>3.00</td>\n",
       "      <td>3.12</td>\n",
       "      <td>3.59</td>\n",
       "    </tr>\n",
       "    <tr>\n",
       "      <th>rh_MeanThickness_thickness</th>\n",
       "      <td>1085.0</td>\n",
       "      <td>2.51</td>\n",
       "      <td>0.13</td>\n",
       "      <td>1.68</td>\n",
       "      <td>2.42</td>\n",
       "      <td>2.52</td>\n",
       "      <td>2.62</td>\n",
       "      <td>2.82</td>\n",
       "    </tr>\n",
       "  </tbody>\n",
       "</table>\n",
       "<p>61 rows × 8 columns</p>\n",
       "</div>"
      ],
      "text/plain": [
       "                                  count     mean     std     min     25%  \\\n",
       "CSF                              1085.0  1032.72  275.51  550.90  849.50   \n",
       "CC_Posterior                     1085.0   998.76  165.01  259.40  890.20   \n",
       "CC_Mid_Posterior                 1085.0   564.41  133.13  115.50  479.50   \n",
       "CC_Central                       1085.0   660.53  182.18  255.70  511.10   \n",
       "CC_Mid_Anterior                  1085.0   646.39  178.89  247.40  504.60   \n",
       "...                                 ...      ...     ...     ...     ...   \n",
       "rh_frontalpole_thickness         1085.0     2.81    0.28    1.98    2.63   \n",
       "rh_temporalpole_thickness        1085.0     3.76    0.30    2.23    3.57   \n",
       "rh_transversetemporal_thickness  1085.0     2.35    0.24    1.31    2.22   \n",
       "rh_insula_thickness              1085.0     2.99    0.20    1.49    2.87   \n",
       "rh_MeanThickness_thickness       1085.0     2.51    0.13    1.68    2.42   \n",
       "\n",
       "                                    50%      75%      max  \n",
       "CSF                              989.90  1154.00  3135.60  \n",
       "CC_Posterior                     996.00  1085.90  1824.10  \n",
       "CC_Mid_Posterior                 548.60   632.40  1447.20  \n",
       "CC_Central                       656.20   794.80  1289.50  \n",
       "CC_Mid_Anterior                  634.80   769.00  1294.70  \n",
       "...                                 ...      ...      ...  \n",
       "rh_frontalpole_thickness           2.80     3.01     3.74  \n",
       "rh_temporalpole_thickness          3.78     3.96     4.57  \n",
       "rh_transversetemporal_thickness    2.37     2.52     3.05  \n",
       "rh_insula_thickness                3.00     3.12     3.59  \n",
       "rh_MeanThickness_thickness         2.52     2.62     2.82  \n",
       "\n",
       "[61 rows x 8 columns]"
      ]
     },
     "execution_count": 370,
     "metadata": {},
     "output_type": "execute_result"
    }
   ],
   "source": [
    "train_data_rh.describe().T.round(2)"
   ]
  },
  {
   "cell_type": "code",
   "execution_count": 371,
   "metadata": {},
   "outputs": [
    {
     "data": {
      "text/html": [
       "<div>\n",
       "<style scoped>\n",
       "    .dataframe tbody tr th:only-of-type {\n",
       "        vertical-align: middle;\n",
       "    }\n",
       "\n",
       "    .dataframe tbody tr th {\n",
       "        vertical-align: top;\n",
       "    }\n",
       "\n",
       "    .dataframe thead th {\n",
       "        text-align: right;\n",
       "    }\n",
       "</style>\n",
       "<table border=\"1\" class=\"dataframe\">\n",
       "  <thead>\n",
       "    <tr style=\"text-align: right;\">\n",
       "      <th></th>\n",
       "      <th>Left-Lateral-Ventricle</th>\n",
       "      <th>Left-Inf-Lat-Vent</th>\n",
       "      <th>Left-Cerebellum-White-Matter</th>\n",
       "      <th>Left-Cerebellum-Cortex</th>\n",
       "      <th>Left-Thalamus-Proper</th>\n",
       "      <th>Left-Caudate</th>\n",
       "      <th>Left-Putamen</th>\n",
       "      <th>Left-Pallidum</th>\n",
       "      <th>Left-Hippocampus</th>\n",
       "      <th>Left-Amygdala</th>\n",
       "      <th>...</th>\n",
       "      <th>lh_rostralmiddlefrontal_thickness</th>\n",
       "      <th>lh_superiorfrontal_thickness</th>\n",
       "      <th>lh_superiorparietal_thickness</th>\n",
       "      <th>lh_superiortemporal_thickness</th>\n",
       "      <th>lh_supramarginal_thickness</th>\n",
       "      <th>lh_frontalpole_thickness</th>\n",
       "      <th>lh_temporalpole_thickness</th>\n",
       "      <th>lh_transversetemporal_thickness</th>\n",
       "      <th>lh_insula_thickness</th>\n",
       "      <th>lh_MeanThickness_thickness</th>\n",
       "    </tr>\n",
       "  </thead>\n",
       "  <tbody>\n",
       "    <tr>\n",
       "      <th>0</th>\n",
       "      <td>5968.4</td>\n",
       "      <td>212.0</td>\n",
       "      <td>12717.4</td>\n",
       "      <td>54979.7</td>\n",
       "      <td>8170.7</td>\n",
       "      <td>3773.4</td>\n",
       "      <td>5204.9</td>\n",
       "      <td>1956.4</td>\n",
       "      <td>4150.9</td>\n",
       "      <td>1515.2</td>\n",
       "      <td>...</td>\n",
       "      <td>2.560</td>\n",
       "      <td>2.924</td>\n",
       "      <td>2.379</td>\n",
       "      <td>2.953</td>\n",
       "      <td>2.642</td>\n",
       "      <td>3.043</td>\n",
       "      <td>3.662</td>\n",
       "      <td>2.460</td>\n",
       "      <td>3.062</td>\n",
       "      <td>2.63478</td>\n",
       "    </tr>\n",
       "    <tr>\n",
       "      <th>1</th>\n",
       "      <td>12256.1</td>\n",
       "      <td>241.9</td>\n",
       "      <td>15603.7</td>\n",
       "      <td>50793.1</td>\n",
       "      <td>8513.6</td>\n",
       "      <td>4153.9</td>\n",
       "      <td>5317.9</td>\n",
       "      <td>2330.4</td>\n",
       "      <td>3971.8</td>\n",
       "      <td>1692.1</td>\n",
       "      <td>...</td>\n",
       "      <td>2.530</td>\n",
       "      <td>2.981</td>\n",
       "      <td>2.333</td>\n",
       "      <td>2.817</td>\n",
       "      <td>2.715</td>\n",
       "      <td>2.763</td>\n",
       "      <td>3.699</td>\n",
       "      <td>2.395</td>\n",
       "      <td>3.242</td>\n",
       "      <td>2.60656</td>\n",
       "    </tr>\n",
       "    <tr>\n",
       "      <th>2</th>\n",
       "      <td>4764.0</td>\n",
       "      <td>202.1</td>\n",
       "      <td>13745.1</td>\n",
       "      <td>44080.0</td>\n",
       "      <td>7312.0</td>\n",
       "      <td>3320.8</td>\n",
       "      <td>4137.5</td>\n",
       "      <td>1797.2</td>\n",
       "      <td>3465.7</td>\n",
       "      <td>1377.4</td>\n",
       "      <td>...</td>\n",
       "      <td>2.551</td>\n",
       "      <td>2.882</td>\n",
       "      <td>2.286</td>\n",
       "      <td>2.790</td>\n",
       "      <td>2.710</td>\n",
       "      <td>2.676</td>\n",
       "      <td>4.050</td>\n",
       "      <td>2.225</td>\n",
       "      <td>2.902</td>\n",
       "      <td>2.57094</td>\n",
       "    </tr>\n",
       "    <tr>\n",
       "      <th>3</th>\n",
       "      <td>10770.0</td>\n",
       "      <td>532.2</td>\n",
       "      <td>13814.3</td>\n",
       "      <td>50342.0</td>\n",
       "      <td>7367.5</td>\n",
       "      <td>2726.2</td>\n",
       "      <td>4771.3</td>\n",
       "      <td>2122.2</td>\n",
       "      <td>4046.3</td>\n",
       "      <td>1476.0</td>\n",
       "      <td>...</td>\n",
       "      <td>2.418</td>\n",
       "      <td>2.516</td>\n",
       "      <td>2.180</td>\n",
       "      <td>2.780</td>\n",
       "      <td>2.662</td>\n",
       "      <td>2.880</td>\n",
       "      <td>3.712</td>\n",
       "      <td>2.179</td>\n",
       "      <td>2.566</td>\n",
       "      <td>2.45492</td>\n",
       "    </tr>\n",
       "    <tr>\n",
       "      <th>4</th>\n",
       "      <td>6773.7</td>\n",
       "      <td>517.0</td>\n",
       "      <td>15662.8</td>\n",
       "      <td>54779.1</td>\n",
       "      <td>7156.6</td>\n",
       "      <td>3357.3</td>\n",
       "      <td>4940.3</td>\n",
       "      <td>2010.9</td>\n",
       "      <td>4109.7</td>\n",
       "      <td>1435.1</td>\n",
       "      <td>...</td>\n",
       "      <td>2.302</td>\n",
       "      <td>2.505</td>\n",
       "      <td>2.062</td>\n",
       "      <td>2.579</td>\n",
       "      <td>2.453</td>\n",
       "      <td>2.736</td>\n",
       "      <td>3.646</td>\n",
       "      <td>1.956</td>\n",
       "      <td>2.889</td>\n",
       "      <td>2.36957</td>\n",
       "    </tr>\n",
       "    <tr>\n",
       "      <th>...</th>\n",
       "      <td>...</td>\n",
       "      <td>...</td>\n",
       "      <td>...</td>\n",
       "      <td>...</td>\n",
       "      <td>...</td>\n",
       "      <td>...</td>\n",
       "      <td>...</td>\n",
       "      <td>...</td>\n",
       "      <td>...</td>\n",
       "      <td>...</td>\n",
       "      <td>...</td>\n",
       "      <td>...</td>\n",
       "      <td>...</td>\n",
       "      <td>...</td>\n",
       "      <td>...</td>\n",
       "      <td>...</td>\n",
       "      <td>...</td>\n",
       "      <td>...</td>\n",
       "      <td>...</td>\n",
       "      <td>...</td>\n",
       "      <td>...</td>\n",
       "    </tr>\n",
       "    <tr>\n",
       "      <th>1080</th>\n",
       "      <td>3794.7</td>\n",
       "      <td>31.7</td>\n",
       "      <td>19280.4</td>\n",
       "      <td>58613.7</td>\n",
       "      <td>8924.1</td>\n",
       "      <td>3090.4</td>\n",
       "      <td>5180.6</td>\n",
       "      <td>2285.0</td>\n",
       "      <td>4595.9</td>\n",
       "      <td>1527.1</td>\n",
       "      <td>...</td>\n",
       "      <td>2.408</td>\n",
       "      <td>2.603</td>\n",
       "      <td>2.162</td>\n",
       "      <td>2.468</td>\n",
       "      <td>2.301</td>\n",
       "      <td>2.857</td>\n",
       "      <td>3.066</td>\n",
       "      <td>1.928</td>\n",
       "      <td>2.742</td>\n",
       "      <td>2.38182</td>\n",
       "    </tr>\n",
       "    <tr>\n",
       "      <th>1081</th>\n",
       "      <td>17935.0</td>\n",
       "      <td>473.7</td>\n",
       "      <td>16101.9</td>\n",
       "      <td>48996.3</td>\n",
       "      <td>6542.0</td>\n",
       "      <td>3430.0</td>\n",
       "      <td>3995.2</td>\n",
       "      <td>2043.6</td>\n",
       "      <td>3513.4</td>\n",
       "      <td>1403.0</td>\n",
       "      <td>...</td>\n",
       "      <td>2.164</td>\n",
       "      <td>2.458</td>\n",
       "      <td>2.039</td>\n",
       "      <td>2.501</td>\n",
       "      <td>2.425</td>\n",
       "      <td>2.373</td>\n",
       "      <td>3.441</td>\n",
       "      <td>2.077</td>\n",
       "      <td>2.423</td>\n",
       "      <td>2.28107</td>\n",
       "    </tr>\n",
       "    <tr>\n",
       "      <th>1082</th>\n",
       "      <td>3116.1</td>\n",
       "      <td>98.7</td>\n",
       "      <td>14541.8</td>\n",
       "      <td>58064.3</td>\n",
       "      <td>6351.6</td>\n",
       "      <td>2885.1</td>\n",
       "      <td>3963.1</td>\n",
       "      <td>1695.5</td>\n",
       "      <td>3680.0</td>\n",
       "      <td>1393.1</td>\n",
       "      <td>...</td>\n",
       "      <td>2.324</td>\n",
       "      <td>2.646</td>\n",
       "      <td>2.066</td>\n",
       "      <td>2.761</td>\n",
       "      <td>2.494</td>\n",
       "      <td>2.788</td>\n",
       "      <td>3.511</td>\n",
       "      <td>2.294</td>\n",
       "      <td>2.928</td>\n",
       "      <td>2.45424</td>\n",
       "    </tr>\n",
       "    <tr>\n",
       "      <th>1083</th>\n",
       "      <td>9992.8</td>\n",
       "      <td>412.2</td>\n",
       "      <td>15710.0</td>\n",
       "      <td>54893.8</td>\n",
       "      <td>6730.6</td>\n",
       "      <td>3002.5</td>\n",
       "      <td>3941.9</td>\n",
       "      <td>1888.4</td>\n",
       "      <td>3547.3</td>\n",
       "      <td>1340.1</td>\n",
       "      <td>...</td>\n",
       "      <td>2.154</td>\n",
       "      <td>2.401</td>\n",
       "      <td>1.956</td>\n",
       "      <td>2.563</td>\n",
       "      <td>2.238</td>\n",
       "      <td>2.741</td>\n",
       "      <td>3.286</td>\n",
       "      <td>1.779</td>\n",
       "      <td>2.458</td>\n",
       "      <td>2.20697</td>\n",
       "    </tr>\n",
       "    <tr>\n",
       "      <th>1084</th>\n",
       "      <td>7367.8</td>\n",
       "      <td>138.2</td>\n",
       "      <td>10804.7</td>\n",
       "      <td>47892.4</td>\n",
       "      <td>5998.0</td>\n",
       "      <td>2316.2</td>\n",
       "      <td>3514.0</td>\n",
       "      <td>1555.2</td>\n",
       "      <td>3454.2</td>\n",
       "      <td>1409.7</td>\n",
       "      <td>...</td>\n",
       "      <td>2.332</td>\n",
       "      <td>2.665</td>\n",
       "      <td>1.985</td>\n",
       "      <td>2.756</td>\n",
       "      <td>2.431</td>\n",
       "      <td>2.399</td>\n",
       "      <td>3.708</td>\n",
       "      <td>2.142</td>\n",
       "      <td>2.925</td>\n",
       "      <td>2.38137</td>\n",
       "    </tr>\n",
       "  </tbody>\n",
       "</table>\n",
       "<p>1085 rows × 55 columns</p>\n",
       "</div>"
      ],
      "text/plain": [
       "      Left-Lateral-Ventricle  Left-Inf-Lat-Vent  Left-Cerebellum-White-Matter  \\\n",
       "0                     5968.4              212.0                       12717.4   \n",
       "1                    12256.1              241.9                       15603.7   \n",
       "2                     4764.0              202.1                       13745.1   \n",
       "3                    10770.0              532.2                       13814.3   \n",
       "4                     6773.7              517.0                       15662.8   \n",
       "...                      ...                ...                           ...   \n",
       "1080                  3794.7               31.7                       19280.4   \n",
       "1081                 17935.0              473.7                       16101.9   \n",
       "1082                  3116.1               98.7                       14541.8   \n",
       "1083                  9992.8              412.2                       15710.0   \n",
       "1084                  7367.8              138.2                       10804.7   \n",
       "\n",
       "      Left-Cerebellum-Cortex  Left-Thalamus-Proper  Left-Caudate  \\\n",
       "0                    54979.7                8170.7        3773.4   \n",
       "1                    50793.1                8513.6        4153.9   \n",
       "2                    44080.0                7312.0        3320.8   \n",
       "3                    50342.0                7367.5        2726.2   \n",
       "4                    54779.1                7156.6        3357.3   \n",
       "...                      ...                   ...           ...   \n",
       "1080                 58613.7                8924.1        3090.4   \n",
       "1081                 48996.3                6542.0        3430.0   \n",
       "1082                 58064.3                6351.6        2885.1   \n",
       "1083                 54893.8                6730.6        3002.5   \n",
       "1084                 47892.4                5998.0        2316.2   \n",
       "\n",
       "      Left-Putamen  Left-Pallidum  Left-Hippocampus  Left-Amygdala  ...  \\\n",
       "0           5204.9         1956.4            4150.9         1515.2  ...   \n",
       "1           5317.9         2330.4            3971.8         1692.1  ...   \n",
       "2           4137.5         1797.2            3465.7         1377.4  ...   \n",
       "3           4771.3         2122.2            4046.3         1476.0  ...   \n",
       "4           4940.3         2010.9            4109.7         1435.1  ...   \n",
       "...            ...            ...               ...            ...  ...   \n",
       "1080        5180.6         2285.0            4595.9         1527.1  ...   \n",
       "1081        3995.2         2043.6            3513.4         1403.0  ...   \n",
       "1082        3963.1         1695.5            3680.0         1393.1  ...   \n",
       "1083        3941.9         1888.4            3547.3         1340.1  ...   \n",
       "1084        3514.0         1555.2            3454.2         1409.7  ...   \n",
       "\n",
       "      lh_rostralmiddlefrontal_thickness  lh_superiorfrontal_thickness  \\\n",
       "0                                 2.560                         2.924   \n",
       "1                                 2.530                         2.981   \n",
       "2                                 2.551                         2.882   \n",
       "3                                 2.418                         2.516   \n",
       "4                                 2.302                         2.505   \n",
       "...                                 ...                           ...   \n",
       "1080                              2.408                         2.603   \n",
       "1081                              2.164                         2.458   \n",
       "1082                              2.324                         2.646   \n",
       "1083                              2.154                         2.401   \n",
       "1084                              2.332                         2.665   \n",
       "\n",
       "      lh_superiorparietal_thickness  lh_superiortemporal_thickness  \\\n",
       "0                             2.379                          2.953   \n",
       "1                             2.333                          2.817   \n",
       "2                             2.286                          2.790   \n",
       "3                             2.180                          2.780   \n",
       "4                             2.062                          2.579   \n",
       "...                             ...                            ...   \n",
       "1080                          2.162                          2.468   \n",
       "1081                          2.039                          2.501   \n",
       "1082                          2.066                          2.761   \n",
       "1083                          1.956                          2.563   \n",
       "1084                          1.985                          2.756   \n",
       "\n",
       "      lh_supramarginal_thickness  lh_frontalpole_thickness  \\\n",
       "0                          2.642                     3.043   \n",
       "1                          2.715                     2.763   \n",
       "2                          2.710                     2.676   \n",
       "3                          2.662                     2.880   \n",
       "4                          2.453                     2.736   \n",
       "...                          ...                       ...   \n",
       "1080                       2.301                     2.857   \n",
       "1081                       2.425                     2.373   \n",
       "1082                       2.494                     2.788   \n",
       "1083                       2.238                     2.741   \n",
       "1084                       2.431                     2.399   \n",
       "\n",
       "      lh_temporalpole_thickness  lh_transversetemporal_thickness  \\\n",
       "0                         3.662                            2.460   \n",
       "1                         3.699                            2.395   \n",
       "2                         4.050                            2.225   \n",
       "3                         3.712                            2.179   \n",
       "4                         3.646                            1.956   \n",
       "...                         ...                              ...   \n",
       "1080                      3.066                            1.928   \n",
       "1081                      3.441                            2.077   \n",
       "1082                      3.511                            2.294   \n",
       "1083                      3.286                            1.779   \n",
       "1084                      3.708                            2.142   \n",
       "\n",
       "      lh_insula_thickness lh_MeanThickness_thickness  \n",
       "0                   3.062                    2.63478  \n",
       "1                   3.242                    2.60656  \n",
       "2                   2.902                    2.57094  \n",
       "3                   2.566                    2.45492  \n",
       "4                   2.889                    2.36957  \n",
       "...                   ...                        ...  \n",
       "1080                2.742                    2.38182  \n",
       "1081                2.423                    2.28107  \n",
       "1082                2.928                    2.45424  \n",
       "1083                2.458                    2.20697  \n",
       "1084                2.925                    2.38137  \n",
       "\n",
       "[1085 rows x 55 columns]"
      ]
     },
     "execution_count": 371,
     "metadata": {},
     "output_type": "execute_result"
    }
   ],
   "source": [
    "dropcolumns = [\n",
    "    'EstimatedTotalIntraCranialVol',\n",
    "    'CSF', \n",
    "    'CC_Posterior', \n",
    "    'CC_Mid_Posterior', \n",
    "    'CC_Central', \n",
    "    'CC_Mid_Anterior', \n",
    "    'CC_Anterior'   \n",
    "]\n",
    "\n",
    "df_lh = train_data_lh.drop(dropcolumns, axis=1)\n",
    "df_rh = train_data_rh.drop(dropcolumns, axis=1)\n",
    "df_lh"
   ]
  },
  {
   "cell_type": "markdown",
   "metadata": {},
   "source": [
    "### Path / default location for saving/loading models"
   ]
  },
  {
   "cell_type": "code",
   "execution_count": 372,
   "metadata": {},
   "outputs": [],
   "source": [
    "path = ''"
   ]
  },
  {
   "cell_type": "markdown",
   "metadata": {},
   "source": [
    "### The dependent variable/target"
   ]
  },
  {
   "cell_type": "code",
   "execution_count": 373,
   "metadata": {},
   "outputs": [],
   "source": [
    "dep_var = 'Age'"
   ]
  },
  {
   "cell_type": "code",
   "execution_count": 374,
   "metadata": {},
   "outputs": [
    {
     "data": {
      "image/png": "[encoded data removed]",
      "text/plain": [
       "<Figure size 432x288 with 1 Axes>"
      ]
     },
     "metadata": {
      "needs_background": "light"
     },
     "output_type": "display_data"
    }
   ],
   "source": [
    "y = train_data[dep_var]\n",
    "y.hist()\n",
    "plt.show()"
   ]
  },
  {
   "cell_type": "code",
   "execution_count": 375,
   "metadata": {},
   "outputs": [
    {
     "data": {
      "image/png": "[encoded data removed]",
      "text/plain": [
       "<Figure size 720x432 with 1 Axes>"
      ]
     },
     "metadata": {
      "needs_background": "light"
     },
     "output_type": "display_data"
    }
   ],
   "source": [
    "fig = plt.figure(figsize=(10, 6))\n",
    "sns.kdeplot(y, shade=True, cut=0)\n",
    "sns.rugplot(y)\n",
    "plt.show()"
   ]
  },
  {
   "cell_type": "markdown",
   "metadata": {},
   "source": [
    "### eTIV by Sex"
   ]
  },
  {
   "cell_type": "code",
   "execution_count": 376,
   "metadata": {},
   "outputs": [
    {
     "data": {
      "image/png": "[encoded data removed]",
      "text/plain": [
       "<Figure size 432x288 with 1 Axes>"
      ]
     },
     "metadata": {
      "needs_background": "light"
     },
     "output_type": "display_data"
    }
   ],
   "source": [
    "fig = sns.boxplot(x='Sex', y='EstimatedTotalIntraCranialVol', data=train_data)"
   ]
  },
  {
   "cell_type": "markdown",
   "metadata": {},
   "source": [
    "# Starting the fastai approach"
   ]
  },
  {
   "cell_type": "code",
   "execution_count": 377,
   "metadata": {},
   "outputs": [],
   "source": [
    "%reload_ext autoreload\n",
    "%autoreload 2"
   ]
  },
  {
   "cell_type": "code",
   "execution_count": 378,
   "metadata": {},
   "outputs": [
    {
     "name": "stdout",
     "output_type": "stream",
     "text": [
      "['/media/data/Dropbox/Arvid/MMIV.no/MMIV_conference_20191209_11/Hackathon/GitHub/mmiv-kaggle-brainage/nbs', '/home/arvid/anaconda3/envs/fastai/lib/python37.zip', '/home/arvid/anaconda3/envs/fastai/lib/python3.7', '/home/arvid/anaconda3/envs/fastai/lib/python3.7/lib-dynload', '', '/home/arvid/anaconda3/envs/fastai/lib/python3.7/site-packages', '/home/arvid/anaconda3/envs/fastai/lib/python3.7/site-packages/IPython/extensions', '/home/arvid/.ipython']\n"
     ]
    }
   ],
   "source": [
    "import sys\n",
    "print(sys.path)"
   ]
  },
  {
   "cell_type": "code",
   "execution_count": 379,
   "metadata": {},
   "outputs": [
    {
     "name": "stdout",
     "output_type": "stream",
     "text": [
      "<module 'fastai' from '/home/arvid/anaconda3/envs/fastai/lib/python3.7/site-packages/fastai/__init__.py'>\n"
     ]
    }
   ],
   "source": [
    "import sys, fastai\n",
    "print(sys.modules['fastai'])"
   ]
  },
  {
   "cell_type": "code",
   "execution_count": 380,
   "metadata": {},
   "outputs": [
    {
     "name": "stdout",
     "output_type": "stream",
     "text": [
      "\n",
      "\n",
      "```text\n",
      "=== Software === \n",
      "python        : 3.7.4\n",
      "fastai        : 1.0.59\n",
      "fastprogress  : 0.1.22\n",
      "torch         : 1.3.1\n",
      "nvidia driver : 418.87\n",
      "torch cuda    : 10.1.243 / is available\n",
      "torch cudnn   : 7603 / is enabled\n",
      "\n",
      "=== Hardware === \n",
      "nvidia gpus   : 1\n",
      "torch devices : 1\n",
      "  - gpu0      : 5904MB | Quadro RTX 3000\n",
      "\n",
      "=== Environment === \n",
      "platform      : Linux-4.15.0-1065-oem-x86_64-with-debian-buster-sid\n",
      "distro        : #75-Ubuntu SMP Wed Nov 20 10:51:26 UTC 2019\n",
      "conda env     : base\n",
      "python        : /home/arvid/anaconda3/envs/fastai/bin/python\n",
      "sys.path      : /media/data/Dropbox/Arvid/MMIV.no/MMIV_conference_20191209_11/Hackathon/GitHub/mmiv-kaggle-brainage/nbs\n",
      "/home/arvid/anaconda3/envs/fastai/lib/python37.zip\n",
      "/home/arvid/anaconda3/envs/fastai/lib/python3.7\n",
      "/home/arvid/anaconda3/envs/fastai/lib/python3.7/lib-dynload\n",
      "\n",
      "/home/arvid/anaconda3/envs/fastai/lib/python3.7/site-packages\n",
      "/home/arvid/anaconda3/envs/fastai/lib/python3.7/site-packages/IPython/extensions\n",
      "/home/arvid/.ipython\n",
      "```\n",
      "\n",
      "Please make sure to include opening/closing ``` when you paste into forums/github to make the reports appear formatted as code sections.\n",
      "\n",
      "Optional package(s) to enhance the diagnostics can be installed with:\n",
      "pip install distro\n",
      "Once installed, re-run this utility to get the additional information\n"
     ]
    }
   ],
   "source": [
    "from fastai.utils import *\n",
    "show_install()"
   ]
  },
  {
   "cell_type": "markdown",
   "metadata": {},
   "source": [
    "### GPU [monitoring](https://docs.fast.ai/dev/gpu.html#gpu-memory-notes)"
   ]
  },
  {
   "cell_type": "code",
   "execution_count": 381,
   "metadata": {},
   "outputs": [
    {
     "name": "stdout",
     "output_type": "stream",
     "text": [
      "True\n"
     ]
    }
   ],
   "source": [
    "import torch\n",
    "print(torch.cuda.is_available())"
   ]
  },
  {
   "cell_type": "code",
   "execution_count": 382,
   "metadata": {},
   "outputs": [
    {
     "name": "stdout",
     "output_type": "stream",
     "text": [
      "Wed Dec 11 10:50:51 2019       \r\n",
      "+-----------------------------------------------------------------------------+\r\n",
      "| NVIDIA-SMI 418.87.00    Driver Version: 418.87.00    CUDA Version: 10.1     |\r\n",
      "|-------------------------------+----------------------+----------------------+\r\n",
      "| GPU  Name        Persistence-M| Bus-Id        Disp.A | Volatile Uncorr. ECC |\r\n",
      "| Fan  Temp  Perf  Pwr:Usage/Cap|         Memory-Usage | GPU-Util  Compute M. |\r\n",
      "|===============================+======================+======================|\r\n",
      "|   0  Quadro RTX 3000     On   | 00000000:01:00.0 Off |                  N/A |\r\n",
      "| N/A   49C    P5    14W /  N/A |   1578MiB /  5904MiB |     18%      Default |\r\n",
      "+-------------------------------+----------------------+----------------------+\r\n",
      "                                                                               \r\n",
      "+-----------------------------------------------------------------------------+\r\n",
      "| Processes:                                                       GPU Memory |\r\n",
      "|  GPU       PID   Type   Process name                             Usage      |\r\n",
      "|=============================================================================|\r\n",
      "|    0      1665      G   /usr/lib/xorg/Xorg                           141MiB |\r\n",
      "|    0      1891      G   /usr/bin/gnome-shell                          58MiB |\r\n",
      "|    0      2249      G   /usr/lib/xorg/Xorg                           311MiB |\r\n",
      "|    0      2424      G   /usr/bin/gnome-shell                         120MiB |\r\n",
      "|    0      2771      G   ...quest-channel-token=9902117017397614234    40MiB |\r\n",
      "|    0      5029      G   ...uest-channel-token=12861822006898390234   203MiB |\r\n",
      "|    0      6044      C   .../arvid/anaconda3/envs/fastai/bin/python   697MiB |\r\n",
      "+-----------------------------------------------------------------------------+\r\n"
     ]
    }
   ],
   "source": [
    "if torch.cuda.is_available():\n",
    "    # !nvidia-smi -h\n",
    "    # !nvidia-smi --help-query-gpu\n",
    "    !nvidia-smi"
   ]
  },
  {
   "cell_type": "markdown",
   "metadata": {},
   "source": [
    "## Data organization"
   ]
  },
  {
   "cell_type": "markdown",
   "metadata": {},
   "source": [
    "### The list of categorical features in the dataset"
   ]
  },
  {
   "cell_type": "code",
   "execution_count": 383,
   "metadata": {},
   "outputs": [],
   "source": [
    "cat_names = ['Sex']"
   ]
  },
  {
   "cell_type": "markdown",
   "metadata": {},
   "source": [
    "### The list of continuous features in the dataset"
   ]
  },
  {
   "cell_type": "code",
   "execution_count": 421,
   "metadata": {},
   "outputs": [],
   "source": [
    "cont_names_1 = [\n",
    "    'Left-Lateral-Ventricle', 'Right-Lateral-Ventricle',\n",
    "    'lhCortexVol', 'rhCortexVol',\n",
    "    'lhCerebralWhiteMatterVol', 'rhCerebralWhiteMatterVol'\n",
    "]"
   ]
  },
  {
   "cell_type": "code",
   "execution_count": 422,
   "metadata": {},
   "outputs": [],
   "source": [
    "cont_names_2 = [\n",
    "    'Left-Lateral-Ventricle', 'Right-Lateral-Ventricle',\n",
    "    'lhCortexVol', 'rhCortexVol',\n",
    "    'lhCerebralWhiteMatterVol', 'rhCerebralWhiteMatterVol'\n",
    "]"
   ]
  },
  {
   "cell_type": "code",
   "execution_count": 423,
   "metadata": {},
   "outputs": [],
   "source": [
    "cont_names_3 = [\n",
    "    'Left-Lateral-Ventricle', 'Right-Lateral-Ventricle',\n",
    "    'lhCortexVol', 'rhCortexVol',\n",
    "    'lhCerebralWhiteMatterVol', 'rhCerebralWhiteMatterVol',\n",
    "    'Left-Hippocampus', 'Right-Hippocampus',\n",
    "    'EstimatedTotalIntraCranialVol',\n",
    "]"
   ]
  },
  {
   "cell_type": "code",
   "execution_count": 387,
   "metadata": {},
   "outputs": [],
   "source": [
    "cont_names = cont_names_3"
   ]
  },
  {
   "cell_type": "markdown",
   "metadata": {},
   "source": [
    "### List of processes/transforms to be applied to the dataset"
   ]
  },
  {
   "cell_type": "code",
   "execution_count": 388,
   "metadata": {},
   "outputs": [],
   "source": [
    "procs = [FillMissing, Categorify, Normalize]"
   ]
  },
  {
   "cell_type": "markdown",
   "metadata": {},
   "source": [
    "### Start index for creating a validation set from train_data\n",
    "Setting the index for the Validation set. The start index and End index are set in such a way that it takes the last 20% data from the training set for validation."
   ]
  },
  {
   "cell_type": "code",
   "execution_count": 389,
   "metadata": {},
   "outputs": [],
   "source": [
    "start_indx = len(train_data) - int(len(train_data) * 0.2)"
   ]
  },
  {
   "cell_type": "markdown",
   "metadata": {},
   "source": [
    "### End index for creating a validation set from train_data"
   ]
  },
  {
   "cell_type": "code",
   "execution_count": 390,
   "metadata": {},
   "outputs": [],
   "source": [
    "end_indx = len(train_data)"
   ]
  },
  {
   "cell_type": "markdown",
   "metadata": {},
   "source": [
    "### TabularList for Validation"
   ]
  },
  {
   "cell_type": "code",
   "execution_count": 391,
   "metadata": {},
   "outputs": [],
   "source": [
    "val = (TabularList.from_df(train_data.iloc[start_indx:end_indx].copy(), path=path, cat_names=cat_names, cont_names=cont_names))"
   ]
  },
  {
   "cell_type": "code",
   "execution_count": 392,
   "metadata": {},
   "outputs": [],
   "source": [
    "test = (TabularList.from_df(test_data, path=path, cat_names=cat_names, cont_names=cont_names, procs=procs))"
   ]
  },
  {
   "cell_type": "markdown",
   "metadata": {},
   "source": [
    "### TabularList for training"
   ]
  },
  {
   "cell_type": "code",
   "execution_count": 393,
   "metadata": {},
   "outputs": [],
   "source": [
    "data = (TabularList.from_df(train_data, path=path, cat_names=cat_names, cont_names=cont_names, procs=procs)\n",
    "                           .split_by_idx(list(range(start_indx,end_indx)))\n",
    "                           .label_from_df(cols=dep_var)\n",
    "                           .add_test(test)\n",
    "                           .databunch())"
   ]
  },
  {
   "cell_type": "markdown",
   "metadata": {},
   "source": [
    "### Display the data batch"
   ]
  },
  {
   "cell_type": "code",
   "execution_count": 394,
   "metadata": {},
   "outputs": [
    {
     "data": {
      "text/html": [
       "<table border=\"1\" class=\"dataframe\">\n",
       "  <thead>\n",
       "    <tr style=\"text-align: right;\">\n",
       "      <th>Sex</th>\n",
       "      <th>Left-Lateral-Ventricle</th>\n",
       "      <th>Right-Lateral-Ventricle</th>\n",
       "      <th>lhCortexVol</th>\n",
       "      <th>rhCortexVol</th>\n",
       "      <th>lhCerebralWhiteMatterVol</th>\n",
       "      <th>rhCerebralWhiteMatterVol</th>\n",
       "      <th>Left-Hippocampus</th>\n",
       "      <th>Right-Hippocampus</th>\n",
       "      <th>EstimatedTotalIntraCranialVol</th>\n",
       "      <th>target</th>\n",
       "    </tr>\n",
       "  </thead>\n",
       "  <tbody>\n",
       "    <tr>\n",
       "      <td>M</td>\n",
       "      <td>0.8386</td>\n",
       "      <td>1.2278</td>\n",
       "      <td>1.1895</td>\n",
       "      <td>1.2697</td>\n",
       "      <td>0.3192</td>\n",
       "      <td>0.3248</td>\n",
       "      <td>0.2628</td>\n",
       "      <td>0.8086</td>\n",
       "      <td>1.3220</td>\n",
       "      <td>21.0</td>\n",
       "    </tr>\n",
       "    <tr>\n",
       "      <td>M</td>\n",
       "      <td>-0.1532</td>\n",
       "      <td>-0.4970</td>\n",
       "      <td>0.1378</td>\n",
       "      <td>0.0767</td>\n",
       "      <td>0.5788</td>\n",
       "      <td>0.5458</td>\n",
       "      <td>-0.4593</td>\n",
       "      <td>-0.9174</td>\n",
       "      <td>-0.1480</td>\n",
       "      <td>37.0</td>\n",
       "    </tr>\n",
       "    <tr>\n",
       "      <td>M</td>\n",
       "      <td>0.3058</td>\n",
       "      <td>0.0092</td>\n",
       "      <td>-0.5249</td>\n",
       "      <td>-0.6507</td>\n",
       "      <td>-0.4935</td>\n",
       "      <td>-0.5797</td>\n",
       "      <td>-0.6755</td>\n",
       "      <td>-0.4380</td>\n",
       "      <td>-0.5515</td>\n",
       "      <td>62.0</td>\n",
       "    </tr>\n",
       "    <tr>\n",
       "      <td>F</td>\n",
       "      <td>-0.7442</td>\n",
       "      <td>-0.8590</td>\n",
       "      <td>0.3753</td>\n",
       "      <td>0.2355</td>\n",
       "      <td>-0.6702</td>\n",
       "      <td>-0.7839</td>\n",
       "      <td>-0.2486</td>\n",
       "      <td>0.1470</td>\n",
       "      <td>-0.3951</td>\n",
       "      <td>21.0</td>\n",
       "    </tr>\n",
       "    <tr>\n",
       "      <td>F</td>\n",
       "      <td>-0.7964</td>\n",
       "      <td>-0.6117</td>\n",
       "      <td>0.6167</td>\n",
       "      <td>0.5647</td>\n",
       "      <td>-0.2514</td>\n",
       "      <td>-0.1497</td>\n",
       "      <td>0.0582</td>\n",
       "      <td>0.4584</td>\n",
       "      <td>-0.7397</td>\n",
       "      <td>20.0</td>\n",
       "    </tr>\n",
       "    <tr>\n",
       "      <td>F</td>\n",
       "      <td>0.3091</td>\n",
       "      <td>0.0943</td>\n",
       "      <td>-1.3399</td>\n",
       "      <td>-1.3764</td>\n",
       "      <td>-1.0267</td>\n",
       "      <td>-1.1782</td>\n",
       "      <td>-1.6140</td>\n",
       "      <td>-1.2090</td>\n",
       "      <td>-1.5731</td>\n",
       "      <td>75.0</td>\n",
       "    </tr>\n",
       "    <tr>\n",
       "      <td>F</td>\n",
       "      <td>-1.0705</td>\n",
       "      <td>-0.9592</td>\n",
       "      <td>0.3269</td>\n",
       "      <td>0.2918</td>\n",
       "      <td>-0.3898</td>\n",
       "      <td>-0.4221</td>\n",
       "      <td>0.7975</td>\n",
       "      <td>0.4785</td>\n",
       "      <td>-0.6770</td>\n",
       "      <td>23.0</td>\n",
       "    </tr>\n",
       "    <tr>\n",
       "      <td>F</td>\n",
       "      <td>-0.4407</td>\n",
       "      <td>-0.3445</td>\n",
       "      <td>-1.6088</td>\n",
       "      <td>-1.9643</td>\n",
       "      <td>-1.5727</td>\n",
       "      <td>-2.3023</td>\n",
       "      <td>-1.7555</td>\n",
       "      <td>-2.3357</td>\n",
       "      <td>-1.7757</td>\n",
       "      <td>65.0</td>\n",
       "    </tr>\n",
       "    <tr>\n",
       "      <td>F</td>\n",
       "      <td>-0.3059</td>\n",
       "      <td>-0.3362</td>\n",
       "      <td>-1.3303</td>\n",
       "      <td>-1.1948</td>\n",
       "      <td>-0.9174</td>\n",
       "      <td>-0.8668</td>\n",
       "      <td>-1.0822</td>\n",
       "      <td>-1.6572</td>\n",
       "      <td>-1.0475</td>\n",
       "      <td>57.0</td>\n",
       "    </tr>\n",
       "    <tr>\n",
       "      <td>F</td>\n",
       "      <td>-0.9734</td>\n",
       "      <td>-0.7919</td>\n",
       "      <td>0.4724</td>\n",
       "      <td>0.4491</td>\n",
       "      <td>-0.1791</td>\n",
       "      <td>-0.2232</td>\n",
       "      <td>0.4864</td>\n",
       "      <td>0.5243</td>\n",
       "      <td>-0.3332</td>\n",
       "      <td>24.312115</td>\n",
       "    </tr>\n",
       "  </tbody>\n",
       "</table>"
      ],
      "text/plain": [
       "<IPython.core.display.HTML object>"
      ]
     },
     "metadata": {},
     "output_type": "display_data"
    }
   ],
   "source": [
    "data.show_batch(rows = 10)"
   ]
  },
  {
   "cell_type": "markdown",
   "metadata": {},
   "source": [
    "## Initialising Neural Network\n",
    "We will initialize a neural network with 4 layers and the number of nodes in each layer as 300,200, 100 and 50 respectively. \n",
    "\n",
    "The network will use two primary metrics for evaluation:\n",
    "\n",
    " - Root Mean Squared Error(RMSE)\n",
    " - R-Squared"
   ]
  },
  {
   "cell_type": "code",
   "execution_count": 395,
   "metadata": {},
   "outputs": [],
   "source": [
    "learn = tabular_learner(data, layers=[300,200, 100, 50], metrics= [rmse,r2_score])"
   ]
  },
  {
   "cell_type": "markdown",
   "metadata": {},
   "source": [
    "### Show the complete summary of the model"
   ]
  },
  {
   "cell_type": "code",
   "execution_count": 396,
   "metadata": {},
   "outputs": [
    {
     "data": {
      "text/plain": [
       "<bound method model_summary of Learner(data=TabularDataBunch;\n",
       "\n",
       "Train: LabelList (868 items)\n",
       "x: TabularList\n",
       "Sex F; Left-Lateral-Ventricle -0.4912; Right-Lateral-Ventricle -0.5929; lhCortexVol 0.3690; rhCortexVol -0.3121; lhCerebralWhiteMatterVol -0.3962; rhCerebralWhiteMatterVol -0.8094; Left-Hippocampus 0.2786; Right-Hippocampus 2.2811; EstimatedTotalIntraCranialVol -0.6778; ,Sex F; Left-Lateral-Ventricle 0.6353; Right-Lateral-Ventricle 0.1380; lhCortexVol 0.8157; rhCortexVol 0.8589; lhCerebralWhiteMatterVol 0.1290; rhCerebralWhiteMatterVol 0.2122; Left-Hippocampus -0.1254; Right-Hippocampus -0.0382; EstimatedTotalIntraCranialVol 0.4308; ,Sex F; Left-Lateral-Ventricle -0.7070; Right-Lateral-Ventricle -0.7804; lhCortexVol -1.0062; rhCortexVol -1.0757; lhCerebralWhiteMatterVol -0.7122; rhCerebralWhiteMatterVol -0.6674; Left-Hippocampus -1.2672; Right-Hippocampus -0.8521; EstimatedTotalIntraCranialVol -1.1022; ,Sex M; Left-Lateral-Ventricle 0.3691; Right-Lateral-Ventricle -0.0885; lhCortexVol -0.3746; rhCortexVol -0.4177; lhCerebralWhiteMatterVol 0.5464; rhCerebralWhiteMatterVol 0.4964; Left-Hippocampus 0.0426; Right-Hippocampus 0.9490; EstimatedTotalIntraCranialVol 0.4398; ,Sex M; Left-Lateral-Ventricle -0.3469; Right-Lateral-Ventricle 0.3438; lhCortexVol -0.5295; rhCortexVol -0.5584; lhCerebralWhiteMatterVol 0.7260; rhCerebralWhiteMatterVol 0.7648; Left-Hippocampus 0.1857; Right-Hippocampus -0.4726; EstimatedTotalIntraCranialVol 0.6166; \n",
       "y: FloatList\n",
       "20.0,19.0,37.002052,67.76728,59.26352\n",
       "Path: .;\n",
       "\n",
       "Valid: LabelList (217 items)\n",
       "x: TabularList\n",
       "Sex F; Left-Lateral-Ventricle -0.0442; Right-Lateral-Ventricle 0.0265; lhCortexVol -0.3300; rhCortexVol -0.3715; lhCerebralWhiteMatterVol -0.0418; rhCerebralWhiteMatterVol -0.1020; Left-Hippocampus -1.3397; Right-Hippocampus -1.1693; EstimatedTotalIntraCranialVol -0.5980; ,Sex M; Left-Lateral-Ventricle -0.5186; Right-Lateral-Ventricle -0.3297; lhCortexVol 0.7855; rhCortexVol 0.9216; lhCerebralWhiteMatterVol -0.7080; rhCerebralWhiteMatterVol -0.6231; Left-Hippocampus 1.2837; Right-Hippocampus 1.2214; EstimatedTotalIntraCranialVol 0.4692; ,Sex M; Left-Lateral-Ventricle -0.1648; Right-Lateral-Ventricle -0.4684; lhCortexVol 1.9247; rhCortexVol 1.8902; lhCerebralWhiteMatterVol 0.0475; rhCerebralWhiteMatterVol 0.0974; Left-Hippocampus 0.9952; Right-Hippocampus 1.0098; EstimatedTotalIntraCranialVol 1.2222; ,Sex M; Left-Lateral-Ventricle -0.2763; Right-Lateral-Ventricle -0.4320; lhCortexVol -0.2885; rhCortexVol -0.1839; lhCerebralWhiteMatterVol 0.2009; rhCerebralWhiteMatterVol 0.2833; Left-Hippocampus 0.7030; Right-Hippocampus 0.4732; EstimatedTotalIntraCranialVol 0.3308; ,Sex F; Left-Lateral-Ventricle -0.8002; Right-Lateral-Ventricle -0.9145; lhCortexVol -1.2407; rhCortexVol -1.2732; lhCerebralWhiteMatterVol -1.0103; rhCerebralWhiteMatterVol -1.2383; Left-Hippocampus -1.3428; Right-Hippocampus -1.2806; EstimatedTotalIntraCranialVol -1.4306; \n",
       "y: FloatList\n",
       "60.0,21.0,23.0,56.67625,39.397675\n",
       "Path: .;\n",
       "\n",
       "Test: LabelList (466 items)\n",
       "x: TabularList\n",
       "Sex F; Left-Lateral-Ventricle 0.0552; Right-Lateral-Ventricle 0.0606; lhCortexVol -0.6354; rhCortexVol -0.6583; lhCerebralWhiteMatterVol -0.3543; rhCerebralWhiteMatterVol -0.1959; Left-Hippocampus 0.1606; Right-Hippocampus 0.0540; EstimatedTotalIntraCranialVol -0.4038; ,Sex M; Left-Lateral-Ventricle 1.1089; Right-Lateral-Ventricle 0.2194; lhCortexVol 0.6309; rhCortexVol 0.6480; lhCerebralWhiteMatterVol 1.7338; rhCerebralWhiteMatterVol 1.5413; Left-Hippocampus 1.4543; Right-Hippocampus 2.0379; EstimatedTotalIntraCranialVol 2.1469; ,Sex M; Left-Lateral-Ventricle 0.2768; Right-Lateral-Ventricle -0.2388; lhCortexVol -0.1676; rhCortexVol -0.1187; lhCerebralWhiteMatterVol 1.4481; rhCerebralWhiteMatterVol 1.2761; Left-Hippocampus -1.1506; Right-Hippocampus -0.5064; EstimatedTotalIntraCranialVol 0.0829; ,Sex F; Left-Lateral-Ventricle 2.8745; Right-Lateral-Ventricle 1.8057; lhCortexVol -0.6716; rhCortexVol -0.7226; lhCerebralWhiteMatterVol -0.2428; rhCerebralWhiteMatterVol -0.2665; Left-Hippocampus -1.4249; Right-Hippocampus -1.8071; EstimatedTotalIntraCranialVol 0.7722; ,Sex M; Left-Lateral-Ventricle -0.3270; Right-Lateral-Ventricle -0.2350; lhCortexVol 0.0936; rhCortexVol 0.1104; lhCerebralWhiteMatterVol 2.9409; rhCerebralWhiteMatterVol 3.1608; Left-Hippocampus 0.4262; Right-Hippocampus 0.6513; EstimatedTotalIntraCranialVol 0.8562; \n",
       "y: EmptyLabelList\n",
       ",,,,\n",
       "Path: ., model=TabularModel(\n",
       "  (embeds): ModuleList(\n",
       "    (0): Embedding(3, 3)\n",
       "  )\n",
       "  (emb_drop): Dropout(p=0.0, inplace=False)\n",
       "  (bn_cont): BatchNorm1d(9, eps=1e-05, momentum=0.1, affine=True, track_running_stats=True)\n",
       "  (layers): Sequential(\n",
       "    (0): Linear(in_features=12, out_features=300, bias=True)\n",
       "    (1): ReLU(inplace=True)\n",
       "    (2): BatchNorm1d(300, eps=1e-05, momentum=0.1, affine=True, track_running_stats=True)\n",
       "    (3): Linear(in_features=300, out_features=200, bias=True)\n",
       "    (4): ReLU(inplace=True)\n",
       "    (5): BatchNorm1d(200, eps=1e-05, momentum=0.1, affine=True, track_running_stats=True)\n",
       "    (6): Linear(in_features=200, out_features=100, bias=True)\n",
       "    (7): ReLU(inplace=True)\n",
       "    (8): BatchNorm1d(100, eps=1e-05, momentum=0.1, affine=True, track_running_stats=True)\n",
       "    (9): Linear(in_features=100, out_features=50, bias=True)\n",
       "    (10): ReLU(inplace=True)\n",
       "    (11): BatchNorm1d(50, eps=1e-05, momentum=0.1, affine=True, track_running_stats=True)\n",
       "    (12): Linear(in_features=50, out_features=1, bias=True)\n",
       "  )\n",
       "), opt_func=functools.partial(<class 'torch.optim.adam.Adam'>, betas=(0.9, 0.99)), loss_func=FlattenedLoss of MSELoss(), metrics=[<function root_mean_squared_error at 0x7f2e77318290>, <function r2_score at 0x7f2e77318440>], true_wd=True, bn_wd=True, wd=0.01, train_bn=True, path=PosixPath('.'), model_dir='models', callback_fns=[functools.partial(<class 'fastai.basic_train.Recorder'>, add_time=True, silent=False)], callbacks=[], layer_groups=[Sequential(\n",
       "  (0): Embedding(3, 3)\n",
       "  (1): Dropout(p=0.0, inplace=False)\n",
       "  (2): BatchNorm1d(9, eps=1e-05, momentum=0.1, affine=True, track_running_stats=True)\n",
       "  (3): Linear(in_features=12, out_features=300, bias=True)\n",
       "  (4): ReLU(inplace=True)\n",
       "  (5): BatchNorm1d(300, eps=1e-05, momentum=0.1, affine=True, track_running_stats=True)\n",
       "  (6): Linear(in_features=300, out_features=200, bias=True)\n",
       "  (7): ReLU(inplace=True)\n",
       "  (8): BatchNorm1d(200, eps=1e-05, momentum=0.1, affine=True, track_running_stats=True)\n",
       "  (9): Linear(in_features=200, out_features=100, bias=True)\n",
       "  (10): ReLU(inplace=True)\n",
       "  (11): BatchNorm1d(100, eps=1e-05, momentum=0.1, affine=True, track_running_stats=True)\n",
       "  (12): Linear(in_features=100, out_features=50, bias=True)\n",
       "  (13): ReLU(inplace=True)\n",
       "  (14): BatchNorm1d(50, eps=1e-05, momentum=0.1, affine=True, track_running_stats=True)\n",
       "  (15): Linear(in_features=50, out_features=1, bias=True)\n",
       ")], add_time=True, silent=False)>"
      ]
     },
     "execution_count": 396,
     "metadata": {},
     "output_type": "execute_result"
    }
   ],
   "source": [
    "learn.summary"
   ]
  },
  {
   "cell_type": "markdown",
   "metadata": {},
   "source": [
    "## Training the model"
   ]
  },
  {
   "cell_type": "code",
   "execution_count": 397,
   "metadata": {},
   "outputs": [
    {
     "data": {
      "text/html": [],
      "text/plain": [
       "<IPython.core.display.HTML object>"
      ]
     },
     "metadata": {},
     "output_type": "display_data"
    },
    {
     "name": "stdout",
     "output_type": "stream",
     "text": [
      "LR Finder is complete, type {learner_name}.recorder.plot() to see the graph.\n"
     ]
    },
    {
     "data": {
      "image/png": "[encoded data removed]",
      "text/plain": [
       "<Figure size 432x288 with 1 Axes>"
      ]
     },
     "metadata": {
      "needs_background": "light"
     },
     "output_type": "display_data"
    }
   ],
   "source": [
    "# Exploring the learning rates\n",
    "learn.lr_find(start_lr = 1e-05,end_lr = 1e+05, num_it = 100)\n",
    "learn.recorder.plot()"
   ]
  },
  {
   "cell_type": "markdown",
   "metadata": {},
   "source": [
    "Learning rate is a hyper-parameter that controls how much the weights of the network is being adjusted with respect to the loss gradient. The lr_find method helps explore the learning rate in a specified range. The graph shows the deviation in loss with respect to the learning rate."
   ]
  },
  {
   "cell_type": "markdown",
   "metadata": {},
   "source": [
    "### Fitting data and training the network"
   ]
  },
  {
   "cell_type": "code",
   "execution_count": 398,
   "metadata": {},
   "outputs": [
    {
     "data": {
      "text/html": [
       "<table border=\"1\" class=\"dataframe\">\n",
       "  <thead>\n",
       "    <tr style=\"text-align: left;\">\n",
       "      <th>epoch</th>\n",
       "      <th>train_loss</th>\n",
       "      <th>valid_loss</th>\n",
       "      <th>root_mean_squared_error</th>\n",
       "      <th>r2_score</th>\n",
       "      <th>time</th>\n",
       "    </tr>\n",
       "  </thead>\n",
       "  <tbody>\n",
       "    <tr>\n",
       "      <td>0</td>\n",
       "      <td>2079.995605</td>\n",
       "      <td>2118.241699</td>\n",
       "      <td>45.972939</td>\n",
       "      <td>-4.876944</td>\n",
       "      <td>00:00</td>\n",
       "    </tr>\n",
       "    <tr>\n",
       "      <td>1</td>\n",
       "      <td>2068.776123</td>\n",
       "      <td>2083.193359</td>\n",
       "      <td>45.595596</td>\n",
       "      <td>-4.781243</td>\n",
       "      <td>00:00</td>\n",
       "    </tr>\n",
       "    <tr>\n",
       "      <td>2</td>\n",
       "      <td>2047.159668</td>\n",
       "      <td>2052.205566</td>\n",
       "      <td>45.262577</td>\n",
       "      <td>-4.697833</td>\n",
       "      <td>00:00</td>\n",
       "    </tr>\n",
       "    <tr>\n",
       "      <td>3</td>\n",
       "      <td>2040.170288</td>\n",
       "      <td>2025.483154</td>\n",
       "      <td>44.972828</td>\n",
       "      <td>-4.625288</td>\n",
       "      <td>00:00</td>\n",
       "    </tr>\n",
       "    <tr>\n",
       "      <td>4</td>\n",
       "      <td>2023.598145</td>\n",
       "      <td>1996.210205</td>\n",
       "      <td>44.650848</td>\n",
       "      <td>-4.545705</td>\n",
       "      <td>00:00</td>\n",
       "    </tr>\n",
       "    <tr>\n",
       "      <td>5</td>\n",
       "      <td>2008.381348</td>\n",
       "      <td>1966.857910</td>\n",
       "      <td>44.323994</td>\n",
       "      <td>-4.464313</td>\n",
       "      <td>00:00</td>\n",
       "    </tr>\n",
       "    <tr>\n",
       "      <td>6</td>\n",
       "      <td>1988.733643</td>\n",
       "      <td>1933.474487</td>\n",
       "      <td>43.950855</td>\n",
       "      <td>-4.373277</td>\n",
       "      <td>00:00</td>\n",
       "    </tr>\n",
       "    <tr>\n",
       "      <td>7</td>\n",
       "      <td>1966.587524</td>\n",
       "      <td>1898.166748</td>\n",
       "      <td>43.544701</td>\n",
       "      <td>-4.274446</td>\n",
       "      <td>00:00</td>\n",
       "    </tr>\n",
       "    <tr>\n",
       "      <td>8</td>\n",
       "      <td>1933.535400</td>\n",
       "      <td>1863.384033</td>\n",
       "      <td>43.155621</td>\n",
       "      <td>-4.180959</td>\n",
       "      <td>00:00</td>\n",
       "    </tr>\n",
       "    <tr>\n",
       "      <td>9</td>\n",
       "      <td>1902.884277</td>\n",
       "      <td>1809.458984</td>\n",
       "      <td>42.527821</td>\n",
       "      <td>-4.031013</td>\n",
       "      <td>00:00</td>\n",
       "    </tr>\n",
       "    <tr>\n",
       "      <td>10</td>\n",
       "      <td>1851.747314</td>\n",
       "      <td>1660.591187</td>\n",
       "      <td>40.748367</td>\n",
       "      <td>-3.625956</td>\n",
       "      <td>00:00</td>\n",
       "    </tr>\n",
       "    <tr>\n",
       "      <td>11</td>\n",
       "      <td>1798.554810</td>\n",
       "      <td>1558.480469</td>\n",
       "      <td>39.473351</td>\n",
       "      <td>-3.333690</td>\n",
       "      <td>00:00</td>\n",
       "    </tr>\n",
       "    <tr>\n",
       "      <td>12</td>\n",
       "      <td>1735.627930</td>\n",
       "      <td>1559.418457</td>\n",
       "      <td>39.483574</td>\n",
       "      <td>-3.342838</td>\n",
       "      <td>00:00</td>\n",
       "    </tr>\n",
       "    <tr>\n",
       "      <td>13</td>\n",
       "      <td>1659.703491</td>\n",
       "      <td>1436.566284</td>\n",
       "      <td>37.898739</td>\n",
       "      <td>-3.007624</td>\n",
       "      <td>00:00</td>\n",
       "    </tr>\n",
       "    <tr>\n",
       "      <td>14</td>\n",
       "      <td>1579.067139</td>\n",
       "      <td>1215.086792</td>\n",
       "      <td>34.855358</td>\n",
       "      <td>-2.388359</td>\n",
       "      <td>00:00</td>\n",
       "    </tr>\n",
       "    <tr>\n",
       "      <td>15</td>\n",
       "      <td>1492.818970</td>\n",
       "      <td>1170.584717</td>\n",
       "      <td>34.207817</td>\n",
       "      <td>-2.258132</td>\n",
       "      <td>00:00</td>\n",
       "    </tr>\n",
       "    <tr>\n",
       "      <td>16</td>\n",
       "      <td>1384.626465</td>\n",
       "      <td>1014.924805</td>\n",
       "      <td>31.854460</td>\n",
       "      <td>-1.824205</td>\n",
       "      <td>00:00</td>\n",
       "    </tr>\n",
       "    <tr>\n",
       "      <td>17</td>\n",
       "      <td>1270.552124</td>\n",
       "      <td>860.830078</td>\n",
       "      <td>29.326733</td>\n",
       "      <td>-1.394785</td>\n",
       "      <td>00:00</td>\n",
       "    </tr>\n",
       "    <tr>\n",
       "      <td>18</td>\n",
       "      <td>1154.168701</td>\n",
       "      <td>703.998047</td>\n",
       "      <td>26.525501</td>\n",
       "      <td>-0.957495</td>\n",
       "      <td>00:00</td>\n",
       "    </tr>\n",
       "    <tr>\n",
       "      <td>19</td>\n",
       "      <td>1033.414673</td>\n",
       "      <td>593.968872</td>\n",
       "      <td>24.361404</td>\n",
       "      <td>-0.658575</td>\n",
       "      <td>00:00</td>\n",
       "    </tr>\n",
       "    <tr>\n",
       "      <td>20</td>\n",
       "      <td>911.330139</td>\n",
       "      <td>429.773560</td>\n",
       "      <td>20.719160</td>\n",
       "      <td>-0.198580</td>\n",
       "      <td>00:00</td>\n",
       "    </tr>\n",
       "    <tr>\n",
       "      <td>21</td>\n",
       "      <td>792.911621</td>\n",
       "      <td>405.773041</td>\n",
       "      <td>20.126225</td>\n",
       "      <td>-0.129860</td>\n",
       "      <td>00:00</td>\n",
       "    </tr>\n",
       "    <tr>\n",
       "      <td>22</td>\n",
       "      <td>686.200012</td>\n",
       "      <td>326.692352</td>\n",
       "      <td>18.062981</td>\n",
       "      <td>0.087005</td>\n",
       "      <td>00:00</td>\n",
       "    </tr>\n",
       "    <tr>\n",
       "      <td>23</td>\n",
       "      <td>586.794739</td>\n",
       "      <td>233.296066</td>\n",
       "      <td>15.253347</td>\n",
       "      <td>0.349328</td>\n",
       "      <td>00:00</td>\n",
       "    </tr>\n",
       "    <tr>\n",
       "      <td>24</td>\n",
       "      <td>496.427612</td>\n",
       "      <td>200.190414</td>\n",
       "      <td>14.098372</td>\n",
       "      <td>0.438583</td>\n",
       "      <td>00:00</td>\n",
       "    </tr>\n",
       "    <tr>\n",
       "      <td>25</td>\n",
       "      <td>417.006683</td>\n",
       "      <td>169.898178</td>\n",
       "      <td>12.984653</td>\n",
       "      <td>0.523398</td>\n",
       "      <td>00:00</td>\n",
       "    </tr>\n",
       "    <tr>\n",
       "      <td>26</td>\n",
       "      <td>351.368774</td>\n",
       "      <td>147.836670</td>\n",
       "      <td>12.115552</td>\n",
       "      <td>0.586760</td>\n",
       "      <td>00:00</td>\n",
       "    </tr>\n",
       "    <tr>\n",
       "      <td>27</td>\n",
       "      <td>295.723541</td>\n",
       "      <td>132.437531</td>\n",
       "      <td>11.478614</td>\n",
       "      <td>0.630107</td>\n",
       "      <td>00:00</td>\n",
       "    </tr>\n",
       "    <tr>\n",
       "      <td>28</td>\n",
       "      <td>249.772171</td>\n",
       "      <td>122.482162</td>\n",
       "      <td>10.984283</td>\n",
       "      <td>0.656571</td>\n",
       "      <td>00:00</td>\n",
       "    </tr>\n",
       "    <tr>\n",
       "      <td>29</td>\n",
       "      <td>212.534225</td>\n",
       "      <td>115.581146</td>\n",
       "      <td>10.696920</td>\n",
       "      <td>0.675718</td>\n",
       "      <td>00:00</td>\n",
       "    </tr>\n",
       "    <tr>\n",
       "      <td>30</td>\n",
       "      <td>182.094604</td>\n",
       "      <td>103.705193</td>\n",
       "      <td>10.144081</td>\n",
       "      <td>0.710189</td>\n",
       "      <td>00:00</td>\n",
       "    </tr>\n",
       "    <tr>\n",
       "      <td>31</td>\n",
       "      <td>155.694168</td>\n",
       "      <td>117.413017</td>\n",
       "      <td>10.772456</td>\n",
       "      <td>0.670060</td>\n",
       "      <td>00:00</td>\n",
       "    </tr>\n",
       "    <tr>\n",
       "      <td>32</td>\n",
       "      <td>134.022308</td>\n",
       "      <td>106.139603</td>\n",
       "      <td>10.232433</td>\n",
       "      <td>0.700646</td>\n",
       "      <td>00:00</td>\n",
       "    </tr>\n",
       "    <tr>\n",
       "      <td>33</td>\n",
       "      <td>118.759102</td>\n",
       "      <td>94.973427</td>\n",
       "      <td>9.662603</td>\n",
       "      <td>0.732362</td>\n",
       "      <td>00:00</td>\n",
       "    </tr>\n",
       "    <tr>\n",
       "      <td>34</td>\n",
       "      <td>104.812088</td>\n",
       "      <td>104.005249</td>\n",
       "      <td>10.151836</td>\n",
       "      <td>0.707531</td>\n",
       "      <td>00:00</td>\n",
       "    </tr>\n",
       "    <tr>\n",
       "      <td>35</td>\n",
       "      <td>94.870712</td>\n",
       "      <td>116.127594</td>\n",
       "      <td>10.724822</td>\n",
       "      <td>0.673626</td>\n",
       "      <td>00:00</td>\n",
       "    </tr>\n",
       "    <tr>\n",
       "      <td>36</td>\n",
       "      <td>85.055321</td>\n",
       "      <td>109.209244</td>\n",
       "      <td>10.384061</td>\n",
       "      <td>0.693600</td>\n",
       "      <td>00:00</td>\n",
       "    </tr>\n",
       "    <tr>\n",
       "      <td>37</td>\n",
       "      <td>78.139427</td>\n",
       "      <td>107.765556</td>\n",
       "      <td>10.324784</td>\n",
       "      <td>0.697522</td>\n",
       "      <td>00:00</td>\n",
       "    </tr>\n",
       "    <tr>\n",
       "      <td>38</td>\n",
       "      <td>72.012840</td>\n",
       "      <td>106.411293</td>\n",
       "      <td>10.250455</td>\n",
       "      <td>0.701465</td>\n",
       "      <td>00:00</td>\n",
       "    </tr>\n",
       "    <tr>\n",
       "      <td>39</td>\n",
       "      <td>68.653374</td>\n",
       "      <td>108.240173</td>\n",
       "      <td>10.318980</td>\n",
       "      <td>0.696350</td>\n",
       "      <td>00:00</td>\n",
       "    </tr>\n",
       "    <tr>\n",
       "      <td>40</td>\n",
       "      <td>65.081268</td>\n",
       "      <td>107.690208</td>\n",
       "      <td>10.278828</td>\n",
       "      <td>0.697593</td>\n",
       "      <td>00:00</td>\n",
       "    </tr>\n",
       "    <tr>\n",
       "      <td>41</td>\n",
       "      <td>61.252769</td>\n",
       "      <td>105.790871</td>\n",
       "      <td>10.209717</td>\n",
       "      <td>0.702511</td>\n",
       "      <td>00:00</td>\n",
       "    </tr>\n",
       "    <tr>\n",
       "      <td>42</td>\n",
       "      <td>58.840771</td>\n",
       "      <td>110.446144</td>\n",
       "      <td>10.429905</td>\n",
       "      <td>0.688831</td>\n",
       "      <td>00:00</td>\n",
       "    </tr>\n",
       "    <tr>\n",
       "      <td>43</td>\n",
       "      <td>56.280342</td>\n",
       "      <td>115.464905</td>\n",
       "      <td>10.647164</td>\n",
       "      <td>0.674970</td>\n",
       "      <td>00:00</td>\n",
       "    </tr>\n",
       "    <tr>\n",
       "      <td>44</td>\n",
       "      <td>53.362717</td>\n",
       "      <td>113.823959</td>\n",
       "      <td>10.585814</td>\n",
       "      <td>0.680385</td>\n",
       "      <td>00:00</td>\n",
       "    </tr>\n",
       "    <tr>\n",
       "      <td>45</td>\n",
       "      <td>51.182301</td>\n",
       "      <td>111.858711</td>\n",
       "      <td>10.490623</td>\n",
       "      <td>0.685655</td>\n",
       "      <td>00:00</td>\n",
       "    </tr>\n",
       "    <tr>\n",
       "      <td>46</td>\n",
       "      <td>50.337173</td>\n",
       "      <td>112.789864</td>\n",
       "      <td>10.540364</td>\n",
       "      <td>0.683593</td>\n",
       "      <td>00:00</td>\n",
       "    </tr>\n",
       "    <tr>\n",
       "      <td>47</td>\n",
       "      <td>49.302006</td>\n",
       "      <td>113.646240</td>\n",
       "      <td>10.571246</td>\n",
       "      <td>0.680738</td>\n",
       "      <td>00:00</td>\n",
       "    </tr>\n",
       "    <tr>\n",
       "      <td>48</td>\n",
       "      <td>48.382328</td>\n",
       "      <td>116.932259</td>\n",
       "      <td>10.743897</td>\n",
       "      <td>0.672495</td>\n",
       "      <td>00:00</td>\n",
       "    </tr>\n",
       "    <tr>\n",
       "      <td>49</td>\n",
       "      <td>47.775417</td>\n",
       "      <td>116.480232</td>\n",
       "      <td>10.719879</td>\n",
       "      <td>0.673196</td>\n",
       "      <td>00:00</td>\n",
       "    </tr>\n",
       "  </tbody>\n",
       "</table>"
      ],
      "text/plain": [
       "<IPython.core.display.HTML object>"
      ]
     },
     "metadata": {},
     "output_type": "display_data"
    }
   ],
   "source": [
    "# Train the network for 25 epochs\n",
    "learn.fit_one_cycle(50)"
   ]
  },
  {
   "cell_type": "markdown",
   "metadata": {},
   "source": [
    "### Evaluating the model\n",
    "The `show_results` method will display the data bunches along with predicted values. "
   ]
  },
  {
   "cell_type": "code",
   "execution_count": 399,
   "metadata": {},
   "outputs": [
    {
     "data": {
      "text/html": [
       "<table border=\"1\" class=\"dataframe\">\n",
       "  <thead>\n",
       "    <tr style=\"text-align: right;\">\n",
       "      <th>Sex</th>\n",
       "      <th>Left-Lateral-Ventricle</th>\n",
       "      <th>Right-Lateral-Ventricle</th>\n",
       "      <th>lhCortexVol</th>\n",
       "      <th>rhCortexVol</th>\n",
       "      <th>lhCerebralWhiteMatterVol</th>\n",
       "      <th>rhCerebralWhiteMatterVol</th>\n",
       "      <th>Left-Hippocampus</th>\n",
       "      <th>Right-Hippocampus</th>\n",
       "      <th>EstimatedTotalIntraCranialVol</th>\n",
       "      <th>target</th>\n",
       "      <th>prediction</th>\n",
       "    </tr>\n",
       "  </thead>\n",
       "  <tbody>\n",
       "    <tr>\n",
       "      <td>F</td>\n",
       "      <td>0.4462</td>\n",
       "      <td>0.1623</td>\n",
       "      <td>-1.2478</td>\n",
       "      <td>-1.2661</td>\n",
       "      <td>-1.3618</td>\n",
       "      <td>-1.3136</td>\n",
       "      <td>-0.8054</td>\n",
       "      <td>-0.6788</td>\n",
       "      <td>-0.7235</td>\n",
       "      <td>52.0</td>\n",
       "      <td>[55.18652]</td>\n",
       "    </tr>\n",
       "    <tr>\n",
       "      <td>F</td>\n",
       "      <td>0.6269</td>\n",
       "      <td>1.1595</td>\n",
       "      <td>-1.4286</td>\n",
       "      <td>-1.4031</td>\n",
       "      <td>-1.0516</td>\n",
       "      <td>-1.1201</td>\n",
       "      <td>-0.2786</td>\n",
       "      <td>-0.4072</td>\n",
       "      <td>-0.6525</td>\n",
       "      <td>60.919918</td>\n",
       "      <td>[58.49344]</td>\n",
       "    </tr>\n",
       "    <tr>\n",
       "      <td>F</td>\n",
       "      <td>-0.6622</td>\n",
       "      <td>-0.6663</td>\n",
       "      <td>-1.3406</td>\n",
       "      <td>-1.3095</td>\n",
       "      <td>-0.6864</td>\n",
       "      <td>-0.6511</td>\n",
       "      <td>-0.6204</td>\n",
       "      <td>-1.1068</td>\n",
       "      <td>-0.8157</td>\n",
       "      <td>59.14853</td>\n",
       "      <td>[51.987328]</td>\n",
       "    </tr>\n",
       "    <tr>\n",
       "      <td>F</td>\n",
       "      <td>-0.5577</td>\n",
       "      <td>-0.4656</td>\n",
       "      <td>-1.2542</td>\n",
       "      <td>-1.2001</td>\n",
       "      <td>-0.7561</td>\n",
       "      <td>-0.6679</td>\n",
       "      <td>-1.7877</td>\n",
       "      <td>-2.0113</td>\n",
       "      <td>-0.5356</td>\n",
       "      <td>41.88912</td>\n",
       "      <td>[52.701935]</td>\n",
       "    </tr>\n",
       "    <tr>\n",
       "      <td>M</td>\n",
       "      <td>-0.7797</td>\n",
       "      <td>-0.7101</td>\n",
       "      <td>0.1726</td>\n",
       "      <td>0.2455</td>\n",
       "      <td>1.2393</td>\n",
       "      <td>1.3811</td>\n",
       "      <td>-0.1683</td>\n",
       "      <td>0.4969</td>\n",
       "      <td>0.8683</td>\n",
       "      <td>29.771389</td>\n",
       "      <td>[40.03798]</td>\n",
       "    </tr>\n",
       "  </tbody>\n",
       "</table>"
      ],
      "text/plain": [
       "<IPython.core.display.HTML object>"
      ]
     },
     "metadata": {},
     "output_type": "display_data"
    }
   ],
   "source": [
    "# Display predictions on the training data\n",
    "learn.show_results(ds_type=DatasetType.Train,rows = 5)"
   ]
  },
  {
   "cell_type": "code",
   "execution_count": 400,
   "metadata": {},
   "outputs": [
    {
     "data": {
      "text/html": [
       "<table border=\"1\" class=\"dataframe\">\n",
       "  <thead>\n",
       "    <tr style=\"text-align: right;\">\n",
       "      <th>Sex</th>\n",
       "      <th>Left-Lateral-Ventricle</th>\n",
       "      <th>Right-Lateral-Ventricle</th>\n",
       "      <th>lhCortexVol</th>\n",
       "      <th>rhCortexVol</th>\n",
       "      <th>lhCerebralWhiteMatterVol</th>\n",
       "      <th>rhCerebralWhiteMatterVol</th>\n",
       "      <th>Left-Hippocampus</th>\n",
       "      <th>Right-Hippocampus</th>\n",
       "      <th>EstimatedTotalIntraCranialVol</th>\n",
       "      <th>target</th>\n",
       "      <th>prediction</th>\n",
       "    </tr>\n",
       "  </thead>\n",
       "  <tbody>\n",
       "    <tr>\n",
       "      <td>F</td>\n",
       "      <td>-0.0442</td>\n",
       "      <td>0.0265</td>\n",
       "      <td>-0.3300</td>\n",
       "      <td>-0.3715</td>\n",
       "      <td>-0.0418</td>\n",
       "      <td>-0.1020</td>\n",
       "      <td>-1.3397</td>\n",
       "      <td>-1.1693</td>\n",
       "      <td>-0.5980</td>\n",
       "      <td>60.0</td>\n",
       "      <td>[61.038437]</td>\n",
       "    </tr>\n",
       "    <tr>\n",
       "      <td>M</td>\n",
       "      <td>-0.5186</td>\n",
       "      <td>-0.3297</td>\n",
       "      <td>0.7855</td>\n",
       "      <td>0.9216</td>\n",
       "      <td>-0.7080</td>\n",
       "      <td>-0.6231</td>\n",
       "      <td>1.2837</td>\n",
       "      <td>1.2214</td>\n",
       "      <td>0.4692</td>\n",
       "      <td>21.0</td>\n",
       "      <td>[20.200434]</td>\n",
       "    </tr>\n",
       "    <tr>\n",
       "      <td>M</td>\n",
       "      <td>-0.1648</td>\n",
       "      <td>-0.4684</td>\n",
       "      <td>1.9247</td>\n",
       "      <td>1.8902</td>\n",
       "      <td>0.0475</td>\n",
       "      <td>0.0974</td>\n",
       "      <td>0.9952</td>\n",
       "      <td>1.0098</td>\n",
       "      <td>1.2222</td>\n",
       "      <td>23.0</td>\n",
       "      <td>[19.618073]</td>\n",
       "    </tr>\n",
       "    <tr>\n",
       "      <td>M</td>\n",
       "      <td>-0.2763</td>\n",
       "      <td>-0.4320</td>\n",
       "      <td>-0.2885</td>\n",
       "      <td>-0.1839</td>\n",
       "      <td>0.2009</td>\n",
       "      <td>0.2833</td>\n",
       "      <td>0.7030</td>\n",
       "      <td>0.4732</td>\n",
       "      <td>0.3308</td>\n",
       "      <td>56.67625</td>\n",
       "      <td>[49.120594]</td>\n",
       "    </tr>\n",
       "    <tr>\n",
       "      <td>F</td>\n",
       "      <td>-0.8002</td>\n",
       "      <td>-0.9145</td>\n",
       "      <td>-1.2407</td>\n",
       "      <td>-1.2732</td>\n",
       "      <td>-1.0103</td>\n",
       "      <td>-1.2383</td>\n",
       "      <td>-1.3428</td>\n",
       "      <td>-1.2806</td>\n",
       "      <td>-1.4306</td>\n",
       "      <td>39.397675</td>\n",
       "      <td>[41.104443]</td>\n",
       "    </tr>\n",
       "  </tbody>\n",
       "</table>"
      ],
      "text/plain": [
       "<IPython.core.display.HTML object>"
      ]
     },
     "metadata": {},
     "output_type": "display_data"
    }
   ],
   "source": [
    "# Display predictions on the validation data\n",
    "learn.show_results(ds_type=DatasetType.Valid)"
   ]
  },
  {
   "cell_type": "markdown",
   "metadata": {},
   "source": [
    "### Fetching the Metrics "
   ]
  },
  {
   "cell_type": "code",
   "execution_count": 401,
   "metadata": {},
   "outputs": [
    {
     "data": {
      "text/html": [],
      "text/plain": [
       "<IPython.core.display.HTML object>"
      ]
     },
     "metadata": {},
     "output_type": "display_data"
    },
    {
     "data": {
      "text/html": [],
      "text/plain": [
       "<IPython.core.display.HTML object>"
      ]
     },
     "metadata": {},
     "output_type": "display_data"
    },
    {
     "name": "stdout",
     "output_type": "stream",
     "text": [
      "The metrics used in evaluating the network: [<function root_mean_squared_error at 0x7f2e77318290>, <function r2_score at 0x7f2e77318440>]\n",
      "\n",
      "The calculated RMSE & R-Squared for the training set : [tensor(5.2864), tensor(0.9150)]\n",
      "\n",
      "The calculated RMSE & R-Squared for the validation set : [tensor(10.7199), tensor(0.6732)]\n"
     ]
    }
   ],
   "source": [
    "# Getting the training and validation errors\n",
    "tr = learn.validate(learn.data.train_dl)\n",
    "va = learn.validate(learn.data.valid_dl)\n",
    "print(\"The metrics used in evaluating the network:\", str(learn.metrics))\n",
    "print(\"\\nThe calculated RMSE & R-Squared for the training set :\", tr[1:])\n",
    "print(\"\\nThe calculated RMSE & R-Squared for the validation set :\", va[1:])"
   ]
  },
  {
   "cell_type": "markdown",
   "metadata": {},
   "source": [
    "#### SUMMARY"
   ]
  },
  {
   "cell_type": "markdown",
   "metadata": {},
   "source": [
    "The Root Mean Squared Error is the standard deviation of the errors/residuals. It tells us the ‘Goodness Of Fit’ of a model. The lower the value of RMSE the better the model.\n",
    "\n",
    "The R-Squared metric also called the coefficient of determination is used to understand the variation in the dependent variable(y) and the independent variable(X).The closer the value of R-Squared is to one, the better the model.\n",
    "\n",
    "The above output suggests that:\n",
    "\n",
    "The model/network was able to attain an RMSE of 1.4678 and an R-squared of 0.9726 while training and an RMSE of 3.1737 and an R-squared of 0.9107 while Validating on the validation set."
   ]
  },
  {
   "cell_type": "markdown",
   "metadata": {},
   "source": [
    "### Plotting the losses for training and validation"
   ]
  },
  {
   "cell_type": "code",
   "execution_count": 402,
   "metadata": {},
   "outputs": [
    {
     "data": {
      "image/png": "[encoded data removed]",
      "text/plain": [
       "<Figure size 432x288 with 1 Axes>"
      ]
     },
     "metadata": {
      "needs_background": "light"
     },
     "output_type": "display_data"
    }
   ],
   "source": [
    "learn.recorder.plot_losses()"
   ]
  },
  {
   "cell_type": "markdown",
   "metadata": {},
   "source": [
    "The above graph shows the change in loss during the course of training the network. At the beginning of the training, we can see a high loss value. As the networks learned from the data, the loss started to drop until it could no longer improve during the course of training. The validation shows a relatively consistent and low loss values. \n",
    "\n",
    "Note: The validation losses are only calculated once per epoch, whereas training losses are calculated after each batch"
   ]
  },
  {
   "cell_type": "markdown",
   "metadata": {},
   "source": [
    "### Plotting the learning rate, momentum and metrics"
   ]
  },
  {
   "cell_type": "code",
   "execution_count": 403,
   "metadata": {},
   "outputs": [
    {
     "data": {
      "image/png": "[encoded data removed]",
      "text/plain": [
       "<Figure size 864x288 with 2 Axes>"
      ]
     },
     "metadata": {
      "needs_background": "light"
     },
     "output_type": "display_data"
    },
    {
     "data": {
      "image/png": "[encoded data removed]",
      "text/plain": [
       "<Figure size 432x576 with 2 Axes>"
      ]
     },
     "metadata": {
      "needs_background": "light"
     },
     "output_type": "display_data"
    }
   ],
   "source": [
    "# Plotting momentum & learning rate\n",
    "learn.recorder.plot_lr(show_moms=True)\n",
    "# Plotting the metrics of evaluation\n",
    "learn.recorder.plot_metrics()"
   ]
  },
  {
   "cell_type": "markdown",
   "metadata": {},
   "source": [
    "### A simple analysis on the predictions of validation set\n",
    "\n",
    "Plotting the average Age for a given Sex, -- actual vs predicted"
   ]
  },
  {
   "cell_type": "code",
   "execution_count": 404,
   "metadata": {},
   "outputs": [
    {
     "name": "stderr",
     "output_type": "stream",
     "text": [
      "No handles with labels found to put in legend.\n"
     ]
    },
    {
     "data": {
      "image/png": "[encoded data removed]",
      "text/plain": [
       "<Figure size 2160x216 with 1 Axes>"
      ]
     },
     "metadata": {
      "needs_background": "light"
     },
     "output_type": "display_data"
    }
   ],
   "source": [
    "plt.figure(figsize=(30, 3))\n",
    "# plt.plot(val.groupby(['Sex']).mean()['Age'], linewidth = 3, )\n",
    "plt.plot(train_data.groupby(['Sex']).mean()['Age'], linewidth = 3, )\n",
    "#plt.plot(val.groupby(['Sex']).mean()['Predicted'],linewidth = 5, ls  = '--')\n",
    "plt.title('Average Age by Sex')\n",
    "plt.xlabel('Sex')\n",
    "plt.ylabel('Age in yrs')\n",
    "plt.legend()\n",
    "plt.show()"
   ]
  },
  {
   "cell_type": "markdown",
   "metadata": {},
   "source": [
    "## Predicting Using The Network"
   ]
  },
  {
   "cell_type": "code",
   "execution_count": 405,
   "metadata": {},
   "outputs": [
    {
     "data": {
      "text/plain": [
       "SubjectID                                  117\n",
       "Sex                                          F\n",
       "Measure:volume                               0\n",
       "Left-Lateral-Ventricle                  9018.3\n",
       "Left-Inf-Lat-Vent                          293\n",
       "                                      ...     \n",
       "rh_transversetemporal_thickness          2.259\n",
       "rh_insula_thickness                      2.923\n",
       "rh_MeanThickness_thickness             2.43364\n",
       "BrainSegVolNotVent                 1.07088e+06\n",
       "eTIV_y                             1.44902e+06\n",
       "Name: 0, Length: 145, dtype: object"
      ]
     },
     "execution_count": 405,
     "metadata": {},
     "output_type": "execute_result"
    }
   ],
   "source": [
    "# Predicting for a single observation\n",
    "# Test set data for row 0\n",
    "test_data.iloc[0]"
   ]
  },
  {
   "cell_type": "code",
   "execution_count": 406,
   "metadata": {},
   "outputs": [
    {
     "data": {
      "text/html": [],
      "text/plain": [
       "<IPython.core.display.HTML object>"
      ]
     },
     "metadata": {},
     "output_type": "display_data"
    },
    {
     "data": {
      "text/html": [
       "<div>\n",
       "<style scoped>\n",
       "    .dataframe tbody tr th:only-of-type {\n",
       "        vertical-align: middle;\n",
       "    }\n",
       "\n",
       "    .dataframe tbody tr th {\n",
       "        vertical-align: top;\n",
       "    }\n",
       "\n",
       "    .dataframe thead th {\n",
       "        text-align: right;\n",
       "    }\n",
       "</style>\n",
       "<table border=\"1\" class=\"dataframe\">\n",
       "  <thead>\n",
       "    <tr style=\"text-align: right;\">\n",
       "      <th></th>\n",
       "      <th>Age</th>\n",
       "    </tr>\n",
       "  </thead>\n",
       "  <tbody>\n",
       "    <tr>\n",
       "      <th>0</th>\n",
       "      <td>57.968651</td>\n",
       "    </tr>\n",
       "    <tr>\n",
       "      <th>1</th>\n",
       "      <td>46.635155</td>\n",
       "    </tr>\n",
       "  </tbody>\n",
       "</table>\n",
       "</div>"
      ],
      "text/plain": [
       "         Age\n",
       "0  57.968651\n",
       "1  46.635155"
      ]
     },
     "execution_count": 406,
     "metadata": {},
     "output_type": "execute_result"
    }
   ],
   "source": [
    "# Predicting for the complete test set\n",
    "test_predictions = learn.get_preds(ds_type=DatasetType.Test)[0]\n",
    "\n",
    "# Converting the tensor output to a list of predicted values\n",
    "test_predictions = [i[0] for i in test_predictions.tolist()]\n",
    "\n",
    "# Converting the prediction to a dataframe\n",
    "test_predictions = pd.DataFrame(test_predictions, columns = ['Age'])\n",
    "\n",
    "test_predictions.head(2)"
   ]
  },
  {
   "cell_type": "code",
   "execution_count": 407,
   "metadata": {},
   "outputs": [
    {
     "data": {
      "text/html": [
       "<div>\n",
       "<style scoped>\n",
       "    .dataframe tbody tr th:only-of-type {\n",
       "        vertical-align: middle;\n",
       "    }\n",
       "\n",
       "    .dataframe tbody tr th {\n",
       "        vertical-align: top;\n",
       "    }\n",
       "\n",
       "    .dataframe thead th {\n",
       "        text-align: right;\n",
       "    }\n",
       "</style>\n",
       "<table border=\"1\" class=\"dataframe\">\n",
       "  <thead>\n",
       "    <tr style=\"text-align: right;\">\n",
       "      <th></th>\n",
       "      <th>Age</th>\n",
       "    </tr>\n",
       "  </thead>\n",
       "  <tbody>\n",
       "    <tr>\n",
       "      <th>464</th>\n",
       "      <td>43.021339</td>\n",
       "    </tr>\n",
       "    <tr>\n",
       "      <th>465</th>\n",
       "      <td>20.596985</td>\n",
       "    </tr>\n",
       "  </tbody>\n",
       "</table>\n",
       "</div>"
      ],
      "text/plain": [
       "           Age\n",
       "464  43.021339\n",
       "465  20.596985"
      ]
     },
     "execution_count": 407,
     "metadata": {},
     "output_type": "execute_result"
    }
   ],
   "source": [
    "test_predictions.tail(2)"
   ]
  },
  {
   "cell_type": "code",
   "execution_count": 427,
   "metadata": {
    "scrolled": true
   },
   "outputs": [],
   "source": [
    "sampleSubmission = pd.read_csv('../data/sampleSubmission.csv')\n",
    "sampleSubmission.label =  test_predictions.Age.round(0).astype(int)\n",
    "my_test_predictions = sampleSubmission.copy()"
   ]
  },
  {
   "cell_type": "code",
   "execution_count": 428,
   "metadata": {},
   "outputs": [],
   "source": [
    "# Writing the predictions to an csv file.\n",
    "my_test_predictions.to_csv(\"fastai_solution_3.csv\", index = False)"
   ]
  },
  {
   "cell_type": "code",
   "execution_count": 429,
   "metadata": {},
   "outputs": [
    {
     "name": "stdout",
     "output_type": "stream",
     "text": [
      "brain_age_classification.ipynb\t   Fast_ai_solution.csv\r\n",
      "brain_age_explore_in_r.ipynb\t   kernel_density_estimation.ipynb\r\n",
      "brain_age_explore.ipynb\t\t   models\r\n",
      "brain_age_regression_fastai.ipynb  numpy-basics.ipynb\r\n",
      "brain_age_regression.ipynb\t   pandas-basics.ipynb\r\n",
      "fastai_solution_1.csv\t\t   python-basics.ipynb\r\n",
      "fastai_solution_3.csv\t\t   scikit-learn-basics.ipynb\r\n"
     ]
    }
   ],
   "source": [
    "!ls ."
   ]
  },
  {
   "cell_type": "code",
   "execution_count": 436,
   "metadata": {},
   "outputs": [
    {
     "data": {
      "image/png": "[encoded data removed]",
      "text/plain": [
       "<Figure size 720x432 with 2 Axes>"
      ]
     },
     "metadata": {
      "needs_background": "light"
     },
     "output_type": "display_data"
    }
   ],
   "source": [
    "fig = plt.figure(figsize=(10, 6))\n",
    "\n",
    "plt.subplot(2, 1, 1)\n",
    "sns.kdeplot(y, shade=True)\n",
    "sns.rugplot(y)\n",
    "plt.xlim(0, 100)\n",
    "plt.title(\"Predicted age in training data set (n=%d)\" % (len(train_data)) )\n",
    "\n",
    "plt.subplot(2, 1, 2)\n",
    "y_pred = test_predictions.Age\n",
    "sns.kdeplot(y_pred, shade=True)\n",
    "sns.rugplot(y_pred)\n",
    "plt.xlim(0, 100)\n",
    "fig.suptitle('Results:') \n",
    "plt.title(\"\\nPredicted age in test data set (n=%d)\" % (len(my_test_predictions)) )\n",
    "\n",
    "plt.show()"
   ]
  },
  {
   "cell_type": "code",
   "execution_count": 431,
   "metadata": {},
   "outputs": [
    {
     "data": {
      "text/html": [
       "<div>\n",
       "<style scoped>\n",
       "    .dataframe tbody tr th:only-of-type {\n",
       "        vertical-align: middle;\n",
       "    }\n",
       "\n",
       "    .dataframe tbody tr th {\n",
       "        vertical-align: top;\n",
       "    }\n",
       "\n",
       "    .dataframe thead th {\n",
       "        text-align: right;\n",
       "    }\n",
       "</style>\n",
       "<table border=\"1\" class=\"dataframe\">\n",
       "  <thead>\n",
       "    <tr style=\"text-align: right;\">\n",
       "      <th></th>\n",
       "      <th>IDX</th>\n",
       "      <th>label</th>\n",
       "    </tr>\n",
       "  </thead>\n",
       "  <tbody>\n",
       "    <tr>\n",
       "      <th>0</th>\n",
       "      <td>117</td>\n",
       "      <td>58</td>\n",
       "    </tr>\n",
       "    <tr>\n",
       "      <th>1</th>\n",
       "      <td>1076</td>\n",
       "      <td>47</td>\n",
       "    </tr>\n",
       "    <tr>\n",
       "      <th>2</th>\n",
       "      <td>903</td>\n",
       "      <td>54</td>\n",
       "    </tr>\n",
       "    <tr>\n",
       "      <th>3</th>\n",
       "      <td>1128</td>\n",
       "      <td>70</td>\n",
       "    </tr>\n",
       "    <tr>\n",
       "      <th>4</th>\n",
       "      <td>817</td>\n",
       "      <td>46</td>\n",
       "    </tr>\n",
       "    <tr>\n",
       "      <th>...</th>\n",
       "      <td>...</td>\n",
       "      <td>...</td>\n",
       "    </tr>\n",
       "    <tr>\n",
       "      <th>461</th>\n",
       "      <td>1002</td>\n",
       "      <td>23</td>\n",
       "    </tr>\n",
       "    <tr>\n",
       "      <th>462</th>\n",
       "      <td>944</td>\n",
       "      <td>60</td>\n",
       "    </tr>\n",
       "    <tr>\n",
       "      <th>463</th>\n",
       "      <td>804</td>\n",
       "      <td>26</td>\n",
       "    </tr>\n",
       "    <tr>\n",
       "      <th>464</th>\n",
       "      <td>443</td>\n",
       "      <td>43</td>\n",
       "    </tr>\n",
       "    <tr>\n",
       "      <th>465</th>\n",
       "      <td>1338</td>\n",
       "      <td>21</td>\n",
       "    </tr>\n",
       "  </tbody>\n",
       "</table>\n",
       "<p>466 rows × 2 columns</p>\n",
       "</div>"
      ],
      "text/plain": [
       "      IDX  label\n",
       "0     117     58\n",
       "1    1076     47\n",
       "2     903     54\n",
       "3    1128     70\n",
       "4     817     46\n",
       "..    ...    ...\n",
       "461  1002     23\n",
       "462   944     60\n",
       "463   804     26\n",
       "464   443     43\n",
       "465  1338     21\n",
       "\n",
       "[466 rows x 2 columns]"
      ]
     },
     "execution_count": 431,
     "metadata": {},
     "output_type": "execute_result"
    }
   ],
   "source": [
    "my_test_predictions "
   ]
  },
  {
   "cell_type": "markdown",
   "metadata": {},
   "source": [
    "### Discretization of Age variable\n",
    "Quantile-based discretization function. Discretize variable into equal-sized buckets based on rank or based on sample quantiles. For example 1000 values for 10 quantiles would produce a Categorical object indicating quantile membership for each data point."
   ]
  },
  {
   "cell_type": "code",
   "execution_count": 413,
   "metadata": {},
   "outputs": [
    {
     "data": {
      "text/plain": [
       "0    (16.999, 20.0]\n",
       "Name: Age, dtype: category\n",
       "Categories (8, interval[float64]): [(16.999, 20.0] < (20.0, 21.0] < (21.0, 30.06] < (30.06, 44.0] < (44.0, 52.515] < (52.515, 58.0] < (58.0, 64.0] < (64.0, 83.458]]"
      ]
     },
     "execution_count": 413,
     "metadata": {},
     "output_type": "execute_result"
    }
   ],
   "source": [
    "pd.qcut(train_data['Age'], 8).head(1)"
   ]
  },
  {
   "cell_type": "code",
   "execution_count": null,
   "metadata": {},
   "outputs": [],
   "source": []
  }
 ],
 "metadata": {
  "kernelspec": {
   "display_name": "FASTAI",
   "language": "python",
   "name": "fastai"
  },
  "language_info": {
   "codemirror_mode": {
    "name": "ipython",
    "version": 3
   },
   "file_extension": ".py",
   "mimetype": "text/x-python",
   "name": "python",
   "nbconvert_exporter": "python",
   "pygments_lexer": "ipython3",
   "version": "3.7.4"
  },
  "toc": {
   "base_numbering": 1,
   "nav_menu": {},
   "number_sections": true,
   "sideBar": true,
   "skip_h1_title": false,
   "title_cell": "Table of Contents",
   "title_sidebar": "Contents",
   "toc_cell": false,
   "toc_position": {},
   "toc_section_display": true,
   "toc_window_display": false
  }
 },
 "nbformat": 4,
 "nbformat_minor": 2
}
